{
 "cells": [
  {
   "cell_type": "code",
   "execution_count": 37,
   "id": "ec66c7e8",
   "metadata": {},
   "outputs": [
    {
     "data": {
      "text/plain": [
       "<!DOCTYPE html>\n",
       "<html class=\"no_js\" id=\"facebook\" lang=\"zh-Hant\">\n",
       "<head><meta charset=\"utf-8\"/><meta content=\"origin-when-crossorigin\" id=\"meta_referrer\" name=\"referrer\"/><script nonce=\"NgkcXN0k\">function envFlush(a){function b(b){for(var c in a)b[c]=a[c]}window.requireLazy?window.requireLazy([\"Env\"],b):(window.Env=window.Env||{},b(window.Env))}envFlush({\"useTrustedTypes\":false,\"isTrustedTypesReportOnly\":false,\"ajaxpipe_token\":\"AXiIxTYx1igc-HAWC7A\",\"remove_heartbeat\":false,\"stack_trace_limit\":30,\"timesliceBufferSize\":5000,\"show_invariant_decoder\":false,\"compat_iframe_token\":\"AQ6j4-hm5X21OoKgBfA\",\"isCQuick\":false});</script><script nonce=\"NgkcXN0k\">(function(a){function b(b){if(!window.openDatabase)return;b.I_AM_INCOGNITO_AND_I_REALLY_NEED_WEBSQL=function(a,b,c,d){return window.openDatabase(a,b,c,d)};window.openDatabase=function(){throw new Error()}}b(a)})(this);</script><style nonce=\"NgkcXN0k\"></style><script nonce=\"NgkcXN0k\">__DEV__=0;</script><noscript><meta content=\"0; URL=/?_fb_noscript=1\" http-equiv=\"refresh\"/></noscript><link crossorigin=\"use-credentials\" href=\"/data/manifest/\" id=\"MANIFEST_LINK\" rel=\"manifest\"/><title id=\"pageTitle\">Facebook</title><link href=\"https://www.facebook.com/\" rel=\"canonical\"/><meta content=\"登入或註冊即可查看\" property=\"og:title\"/><meta content=\"到 Facebook 上查看貼文、相片和更多內容。\" property=\"og:description\"/><link href=\"https://static.xx.fbcdn.net/rsrc.php/yb/r/hLRJ1GG_y0J.ico\" rel=\"icon\"/><link crossorigin=\"anonymous\" data-bootloader-hash=\"GrqIbBd\" href=\"https://static.xx.fbcdn.net/rsrc.php/v3/yy/l/1,cross/piXcg3ZJdR_.css?_nc_x=Ij3Wp8lg5Kz\" rel=\"stylesheet\" type=\"text/css\"/>\n",
       "<link crossorigin=\"anonymous\" data-bootloader-hash=\"ITu32E2\" href=\"https://static.xx.fbcdn.net/rsrc.php/v3/yO/l/1,cross/QfIQ6tbUF1w.css?_nc_x=Ij3Wp8lg5Kz\" rel=\"stylesheet\" type=\"text/css\"/>\n",
       "<link crossorigin=\"anonymous\" data-bootloader-hash=\"vqOi3g3\" href=\"https://static.xx.fbcdn.net/rsrc.php/v3/yd/l/1,cross/mHF1pesEsrP.css?_nc_x=Ij3Wp8lg5Kz\" rel=\"stylesheet\" type=\"text/css\"/>\n",
       "<link crossorigin=\"anonymous\" data-bootloader-hash=\"Ynnl66x\" href=\"https://static.xx.fbcdn.net/rsrc.php/v3/ym/l/1,cross/4M4PAhWCwNF.css?_nc_x=Ij3Wp8lg5Kz\" rel=\"stylesheet\" type=\"text/css\"/>\n",
       "<link crossorigin=\"anonymous\" data-bootloader-hash=\"0Bj1L9r\" href=\"https://static.xx.fbcdn.net/rsrc.php/v3/yV/l/1,cross/1FPNULrhhBJ.css?_nc_x=Ij3Wp8lg5Kz\" rel=\"stylesheet\" type=\"text/css\"/>\n",
       "<script crossorigin=\"anonymous\" data-bootloader-hash=\"FvvJMGQ\" nonce=\"NgkcXN0k\" src=\"https://static.xx.fbcdn.net/rsrc.php/v3/yi/r/PYESZF60vr6.js?_nc_x=Ij3Wp8lg5Kz\"></script>\n",
       "<script nonce=\"NgkcXN0k\">requireLazy([\"HasteSupportData\"],function(m){m.handle({\"clpData\":{\"1838142\":{\"r\":1,\"s\":1},\"4883\":{\"r\":1,\"s\":1},\"1814852\":{\"r\":1},\"1848815\":{\"r\":10000,\"s\":1}},\"gkxData\":{\"676837\":{\"result\":false,\"hash\":null},\"708253\":{\"result\":false,\"hash\":null},\"1167394\":{\"result\":false,\"hash\":null},\"1073500\":{\"result\":false,\"hash\":null},\"1224637\":{\"result\":false,\"hash\":null},\"1263340\":{\"result\":false,\"hash\":null},\"1857581\":{\"result\":false,\"hash\":null}},\"qexData\":{\"662\":{\"r\":null}}})});requireLazy([\"TimeSliceImpl\",\"ServerJS\"],function(TimeSlice,ServerJS){(new ServerJS()).handle({\"define\":[[\"ServerNonce\",[],{\"ServerNonce\":\"zHWmvNnJrtG1uNoNIlFD8i\"},141],[\"KSConfig\",[],{\"killed\":{\"__set\":[\"WORKPLACE_DISPLAY_TEXT_EVIDENCE_REPORTING\",\"BUSINESS_GRAPH_SETTING_APP_ASSIGNED_USERS_NEW_API\",\"BUSINESS_GRAPH_SETTING_BU_ASSIGNED_USERS_NEW_API\",\"BUSINESS_GRAPH_SETTING_ESG_ASSIGNED_USERS_NEW_API\",\"BUSINESS_GRAPH_SETTING_PRODUCT_CATALOG_ASSIGNED_USERS_NEW_API\",\"BUSINESS_GRAPH_SETTING_SESG_ASSIGNED_USERS_NEW_API\",\"BUSINESS_GRAPH_SETTING_WABA_ASSIGNED_USERS_NEW_API\",\"FORCE_FETCH_BOOSTED_COMPONENT_AFTER_ADS_CREATION\",\"ADS_STORE_VISITS_METRICS_DEPRECATION\",\"AD_DRAFT_ENABLE_SYNCRHONOUS_FRAGMENT_VALIDATION\",\"SEPARATE_MESSAGING_COMACTIVITY_PAGE_PERMS\",\"POCKET_MONSTERS_CREATE\",\"POCKET_MONSTERS_DELETE\",\"WORKPLACE_PLATFORM_SECURE_APPS_MAILBOXES\",\"POCKET_MONSTERS_UPDATE_NAME\",\"IC_DISABLE_MERGE_TOOL_FEED_CHECK_FOR_REPLACE_SCHEDULE\",\"ADS_EPD_IMPACTED_ADVERTISER_MIGRATE_XCONTROLLER\",\"TPA_SRT_TRANSLATION\",\"WORKROOMS_REQUEST_TAGGING_TAG_NO_INIT_BY_VC_GALAXY\"]},\"ko\":{\"__set\":[\"8NAceEy9JZo\",\"4j36SVzvP3w\",\"4NSq3ZC4ScE\",\"53gCxKq281G\",\"3yzzwBY7Npj\",\"1onzIv0jH6H\",\"8PlKuowafe8\",\"4SIH2GRVX5W\",\"amKHb4Cw4WI\",\"8rDvN9vWdAK\",\"5BdzWGmfvrA\",\"acrJTh9WGdp\",\"1oOE64fL4wO\",\"5XCz1h9Iaw3\",\"7r6mSP7ofr2\",\"6DGPLrRdyts\",\"aWxCyi1sEC7\",\"3sKizTQ6byg\",\"6XsXQ2qHw8y\"]}},2580],[\"InitialCookieConsent\",[],{\"deferCookies\":false,\"initialConsent\":[1,2],\"noCookies\":false,\"shouldShowCookieBanner\":false,\"shouldWaitForDeferredDatrCookie\":false},4328],[\"ServerTimeData\",[],{\"serverTime\":1701875828989,\"timeOfRequestStart\":1701875828930.4,\"timeOfResponseStart\":1701875828930.4},5943],[\"URLFragmentPreludeConfig\",[],{\"hashtagRedirect\":true,\"fragBlacklist\":[\"nonce\",\"access_token\",\"oauth_token\",\"xs\",\"checkpoint_data\",\"code\"]},137],[\"CometPersistQueryParams\",[],{\"relative\":{},\"domain\":{}},6231],[\"CookieDomain\",[],{\"domain\":\"facebook.com\"},6421],[\"CurrentAdAccountInitialData\",[],{\"AD_ACCOUNT_ID\":null},6828],[\"BootloaderConfig\",[],{\"deferBootloads\":false,\"jsRetries\":[200,500],\"jsRetryAbortNum\":2,\"jsRetryAbortTime\":5,\"silentDups\":false,\"timeout\":60000,\"hypStep4\":false,\"phdOn\":false,\"btCutoffIndex\":2183,\"fastPathForAlreadyRequired\":true,\"earlyRequireLazy\":false,\"enableTimeoutLoggingForNonComet\":false,\"deferLongTailManifest\":true,\"lazySoT\":false,\"translationRetries\":[200,500],\"translationRetryAbortNum\":3,\"translationRetryAbortTime\":50},329],[\"CSSLoaderConfig\",[],{\"timeout\":5000,\"modulePrefix\":\"BLCSS:\",\"forcePollForBootloader\":true,\"loadEventSupported\":true},619],[\"CookieCoreConfig\",[],{\"c_user\":{\"t\":31536000,\"s\":\"None\"},\"cppo\":{\"t\":86400,\"s\":\"None\"},\"dpr\":{\"t\":604800,\"s\":\"None\"},\"fbl_ci\":{\"t\":31536000,\"s\":\"None\"},\"fbl_cs\":{\"t\":31536000,\"s\":\"None\"},\"fbl_st\":{\"t\":31536000,\"s\":\"Strict\"},\"i_user\":{\"t\":31536000,\"s\":\"None\"},\"locale\":{\"t\":604800,\"s\":\"None\"},\"m_ls\":{\"t\":34560000,\"s\":\"None\"},\"m_pixel_ratio\":{\"t\":604800,\"s\":\"None\"},\"noscript\":{\"s\":\"None\"},\"presence\":{\"t\":2592000,\"s\":\"None\"},\"sfau\":{\"s\":\"None\"},\"usida\":{\"s\":\"None\"},\"vpd\":{\"t\":5184000,\"s\":\"Lax\"},\"wd\":{\"t\":604800,\"s\":\"Lax\"},\"wl_cbv\":{\"t\":7776000,\"s\":\"None\"},\"x-referer\":{\"s\":\"None\"},\"x-src\":{\"t\":1,\"s\":\"None\"}},2104],[\"CurrentCommunityInitialData\",[],{},490],[\"CurrentUserInitialData\",[],{\"ACCOUNT_ID\":\"0\",\"USER_ID\":\"0\",\"NAME\":\"\",\"SHORT_NAME\":null,\"IS_BUSINESS_PERSON_ACCOUNT\":false,\"HAS_SECONDARY_BUSINESS_PERSON\":false,\"IS_FACEBOOK_WORK_ACCOUNT\":false,\"IS_MESSENGER_ONLY_USER\":false,\"IS_DEACTIVATED_ALLOWED_ON_MESSENGER\":false,\"IS_MESSENGER_CALL_GUEST_USER\":false,\"IS_WORK_MESSENGER_CALL_GUEST_USER\":false,\"IS_WORKROOMS_USER\":false,\"APP_ID\":\"256281040558\",\"IS_BUSINESS_DOMAIN\":false},270],[\"DTSGInitialData\",[],{},258],[\"ISB\",[],{},330],[\"LSD\",[],{\"token\":\"AVoA685nzas\"},323],[\"SiteData\",[],{\"server_revision\":1010238839,\"client_revision\":1010238839,\"tier\":\"\",\"push_phase\":\"C3\",\"pkg_cohort\":\"BP:DEFAULT\",\"haste_session\":\"19697.BP:DEFAULT.2.0..0.0\",\"pr\":1,\"haste_site\":\"www\",\"manifest_base_uri\":\"https:\\/\\/static.xx.fbcdn.net\",\"manifest_origin\":null,\"manifest_version_prefix\":null,\"be_one_ahead\":false,\"is_rtl\":false,\"is_comet\":false,\"is_experimental_tier\":false,\"is_jit_warmed_up\":true,\"hsi\":\"7309501024245344736\",\"semr_host_bucket\":\"5\",\"bl_hash_version\":2,\"skip_rd_bl\":true,\"comet_env\":0,\"wbloks_env\":false,\"ef_page\":null,\"compose_bootloads\":false,\"spin\":4,\"__spin_r\":1010238839,\"__spin_b\":\"trunk\",\"__spin_t\":1701875828,\"vip\":\"2a03:2880:f117:83:face:b00c:0:25de\"},317],[\"SprinkleConfig\",[],{\"param_name\":\"jazoest\",\"version\":2,\"should_randomize\":false},2111],[\"UserAgentData\",[],{\"browserArchitecture\":\"64\",\"browserFullVersion\":\"107.0.0.0\",\"browserMinorVersion\":0,\"browserName\":\"Chrome\",\"browserVersion\":107,\"deviceName\":\"Unknown\",\"engineName\":\"WebKit\",\"engineVersion\":\"537.36\",\"platformArchitecture\":\"64\",\"platformName\":\"Windows\",\"platformVersion\":\"10\",\"platformFullVersion\":\"10\"},527],[\"PromiseUsePolyfillSetImmediateGK\",[],{\"www_always_use_polyfill_setimmediate\":false},2190],[\"CurrentBusinessUser\",[],{\"business_id\":null,\"business_persona_id\":null,\"business_role\":null,\"business_user_id\":null,\"businessAccountName\":null,\"email\":null,\"first_name\":null,\"ip_permission\":null,\"isBusinessPerson\":false,\"isFacebookWorkAccount\":false,\"isInstagramBusinessPerson\":false,\"isEnterpriseBusiness\":false,\"shouldHideComponentsByUnsupportedFirstPartyTools\":false,\"shouldShowAccountSwitchComponents\":false,\"isUserOptInAccountSwitchInfraUpgrade\":false,\"business_profile_pic_url\":null,\"enterprise_profile_pic_url\":null,\"isTwoFacNewFlow\":false,\"last_name\":null,\"personal_user_id\":\"0\",\"is_ads_feature_limited\":null,\"is_business_banhammered\":null,\"expiry_time\":null,\"has_verified_email\":null,\"permitted_business_account_task_ids\":[]},2654],[\"JSErrorLoggingConfig\",[],{\"appId\":256281040558,\"extra\":[],\"reportInterval\":50,\"sampleWeight\":null,\"sampleWeightKey\":\"__jssesw\",\"projectBlocklist\":[]},2776],[\"DataStoreConfig\",[],{\"expandoKey\":\"__FB_STORE\",\"useExpando\":true},2915],[\"CookieCoreLoggingConfig\",[],{\"maximumIgnorableStallMs\":16.67,\"sampleRate\":9.7e-5,\"sampleRateClassic\":1.0e-10,\"sampleRateFastStale\":1.0e-8},3401],[\"ImmediateImplementationExperiments\",[],{\"prefer_message_channel\":true},3419],[\"DTSGInitData\",[],{\"token\":\"\",\"async_get_token\":\"\"},3515],[\"UriNeedRawQuerySVConfig\",[],{\"uris\":[\"dms.netmng.com\",\"doubleclick.net\",\"r.msn.com\",\"watchit.sky.com\",\"graphite.instagram.com\",\"www.kfc.co.th\",\"learn.pantheon.io\",\"www.landmarkshops.in\",\"www.ncl.com\",\"s0.wp.com\",\"www.tatacliq.com\",\"bs.serving-sys.com\",\"kohls.com\",\"lazada.co.th\",\"xg4ken.com\",\"technopark.ru\",\"officedepot.com.mx\",\"bestbuy.com.mx\",\"booking.com\",\"nibio.no\",\"myworkdayjobs.com\"]},3871],[\"WebConnectionClassServerGuess\",[],{\"connectionClass\":\"GOOD\"},4705],[\"BootloaderEndpointConfig\",[],{\"debugNoBatching\":false,\"maxBatchSize\":-1,\"endpointURI\":\"https:\\/\\/www.facebook.com\\/ajax\\/bootloader-endpoint\\/\"},5094],[\"BigPipeExperiments\",[],{\"link_images_to_pagelets\":false,\"enable_bigpipe_plugins\":false},907],[\"IntlVariationHoldout\",[],{\"disable_variation\":false},6533],[\"IntlNumberTypeProps\",[\"IntlCLDRNumberType01\"],{\"module\":{\"__m\":\"IntlCLDRNumberType01\"}},7027],[\"AsyncRequestConfig\",[],{\"retryOnNetworkError\":\"1\",\"useFetchStreamAjaxPipeTransport\":false},328],[\"FbtQTOverrides\",[],{\"overrides\":{}},551],[\"IntlPhonologicalRules\",[],{\"meta\":{},\"patterns\":{}},1496],[\"IntlViewerContext\",[],{\"GENDER\":3,\"regionalLocale\":null},772],[\"NumberFormatConfig\",[],{\"decimalSeparator\":\".\",\"numberDelimiter\":\",\",\"minDigitsForThousandsSeparator\":4,\"standardDecimalPatternInfo\":{\"primaryGroupSize\":3,\"secondaryGroupSize\":3},\"numberingSystemData\":null},54],[\"SessionNameConfig\",[],{\"seed\":\"1EPZ\"},757],[\"ZeroCategoryHeader\",[],{},1127],[\"ZeroRewriteRules\",[],{\"rewrite_rules\":{},\"whitelist\":{\"\\/hr\\/r\":1,\"\\/hr\\/p\":1,\"\\/zero\\/unsupported_browser\\/\":1,\"\\/zero\\/policy\\/optin\":1,\"\\/zero\\/optin\\/write\\/\":1,\"\\/zero\\/optin\\/legal\\/\":1,\"\\/zero\\/optin\\/free\\/\":1,\"\\/about\\/privacy\\/\":1,\"\\/about\\/privacy\\/update\\/\":1,\"\\/privacy\\/explanation\\/\":1,\"\\/zero\\/toggle\\/welcome\\/\":1,\"\\/zero\\/toggle\\/nux\\/\":1,\"\\/zero\\/toggle\\/settings\\/\":1,\"\\/fup\\/interstitial\\/\":1,\"\\/work\\/landing\":1,\"\\/work\\/login\\/\":1,\"\\/work\\/email\\/\":1,\"\\/ai.php\":1,\"\\/js_dialog_resources\\/dialog_descriptions_android.json\":0,\"\\/connect\\/jsdialog\\/MPlatformAppInvitesJSDialog\\/\":0,\"\\/connect\\/jsdialog\\/MPlatformOAuthShimJSDialog\\/\":0,\"\\/connect\\/jsdialog\\/MPlatformLikeJSDialog\\/\":0,\"\\/qp\\/interstitial\\/\":1,\"\\/qp\\/action\\/redirect\\/\":1,\"\\/qp\\/action\\/close\\/\":1,\"\\/zero\\/support\\/ineligible\\/\":1,\"\\/zero_balance_redirect\\/\":1,\"\\/zero_balance_redirect\":1,\"\\/zero_balance_redirect\\/l\\/\":1,\"\\/l.php\":1,\"\\/lsr.php\":1,\"\\/ajax\\/dtsg\\/\":1,\"\\/checkpoint\\/block\\/\":1,\"\\/exitdsite\":1,\"\\/zero\\/balance\\/pixel\\/\":1,\"\\/zero\\/balance\\/\":1,\"\\/zero\\/balance\\/carrier_landing\\/\":1,\"\\/zero\\/flex\\/logging\\/\":1,\"\\/tr\":1,\"\\/tr\\/\":1,\"\\/sem_campaigns\\/sem_pixel_test\\/\":1,\"\\/bookmarks\\/flyout\\/body\\/\":1,\"\\/zero\\/subno\\/\":1,\"\\/confirmemail.php\":1,\"\\/policies\\/\":1,\"\\/mobile\\/internetdotorg\\/classifier\\/\":1,\"\\/zero\\/dogfooding\":1,\"\\/xti.php\":1,\"\\/zero\\/fblite\\/config\\/\":1,\"\\/hr\\/zsh\\/wc\\/\":1,\"\\/ajax\\/bootloader-endpoint\\/\":1,\"\\/mobile\\/zero\\/carrier_page\\/\":1,\"\\/mobile\\/zero\\/carrier_page\\/education_page\\/\":1,\"\\/mobile\\/zero\\/carrier_page\\/feature_switch\\/\":1,\"\\/mobile\\/zero\\/carrier_page\\/settings_page\\/\":1,\"\\/aloha_check_build\":1,\"\\/upsell\\/zbd\\/softnudge\\/\":1,\"\\/mobile\\/zero\\/af_transition\\/\":1,\"\\/mobile\\/zero\\/af_transition\\/action\\/\":1,\"\\/mobile\\/zero\\/freemium\\/\":1,\"\\/mobile\\/zero\\/freemium\\/redirect\\/\":1,\"\\/mobile\\/zero\\/freemium\\/zero_fup\\/\":1,\"\\/privacy\\/policy\\/\":1,\"\\/privacy\\/center\\/\":1,\"\\/data\\/manifest\\/\":1,\"\\/4oh4.php\":1,\"\\/autologin.php\":1,\"\\/birthday_help.php\":1,\"\\/checkpoint\\/\":1,\"\\/contact-importer\\/\":1,\"\\/cr.php\":1,\"\\/legal\\/terms\\/\":1,\"\\/login.php\":1,\"\\/login\\/\":1,\"\\/mobile\\/account\\/\":1,\"\\/n\\/\":1,\"\\/remote_test_device\\/\":1,\"\\/upsell\\/buy\\/\":1,\"\\/upsell\\/buyconfirm\\/\":1,\"\\/upsell\\/buyresult\\/\":1,\"\\/upsell\\/promos\\/\":1,\"\\/upsell\\/continue\\/\":1,\"\\/upsell\\/h\\/promos\\/\":1,\"\\/upsell\\/loan\\/learnmore\\/\":1,\"\\/upsell\\/purchase\\/\":1,\"\\/upsell\\/promos\\/upgrade\\/\":1,\"\\/upsell\\/buy_redirect\\/\":1,\"\\/upsell\\/loan\\/buyconfirm\\/\":1,\"\\/upsell\\/loan\\/buy\\/\":1,\"\\/upsell\\/sms\\/\":1,\"\\/wap\\/a\\/channel\\/reconnect.php\":1,\"\\/wap\\/a\\/nux\\/wizard\\/nav.php\":1,\"\\/wap\\/appreg.php\":1,\"\\/wap\\/birthday_help.php\":1,\"\\/wap\\/c.php\":1,\"\\/wap\\/confirmemail.php\":1,\"\\/wap\\/cr.php\":1,\"\\/wap\\/login.php\":1,\"\\/wap\\/r.php\":1,\"\\/zero\\/datapolicy\":1,\"\\/a\\/timezone.php\":1,\"\\/a\\/bz\":1,\"\\/bz\\/reliability\":1,\"\\/r.php\":1,\"\\/mr\\/\":1,\"\\/reg\\/\":1,\"\\/registration\\/log\\/\":1,\"\\/terms\\/\":1,\"\\/f123\\/\":1,\"\\/expert\\/\":1,\"\\/experts\\/\":1,\"\\/terms\\/index.php\":1,\"\\/terms.php\":1,\"\\/srr\\/\":1,\"\\/msite\\/redirect\\/\":1,\"\\/fbs\\/pixel\\/\":1,\"\\/contactpoint\\/preconfirmation\\/\":1,\"\\/contactpoint\\/cliff\\/\":1,\"\\/contactpoint\\/confirm\\/submit\\/\":1,\"\\/contactpoint\\/confirmed\\/\":1,\"\\/contactpoint\\/login\\/\":1,\"\\/preconfirmation\\/contactpoint_change\\/\":1,\"\\/help\\/contact\\/\":1,\"\\/survey\\/\":1,\"\\/upsell\\/loyaltytopup\\/accept\\/\":1,\"\\/settings\\/\":1,\"\\/lite\\/\":1,\"\\/zero_status_update\\/\":1,\"\\/operator_store\\/\":1,\"\\/upsell\\/\":1,\"\\/wifiauth\\/login\\/\":1}},1478],[\"WebDriverConfig\",[],{\"isTestRunning\":false,\"isJestE2ETestRun\":false,\"isXRequestConfigEnabled\":false,\"auxiliaryServiceInfo\":{},\"testPath\":null,\"originHost\":null},5332],[\"CookieConsentIFrameConfig\",[],{\"consent_param\":\"FQAREhISAA==.ARaM9M0-oc6bJ7HARLi3GchigY_VJHOkvwRJZFhvwQcrKFUQ\",\"allowlisted_iframes\":[]},5540],[\"AnalyticsCoreData\",[],{\"device_id\":\"$^|AcawbZ42coHBTGxdlw54k2v5_KQumGlIRhxYn4QrumxrIWcwgNKwkMmF-n4nAm7xCOWwKtA0hTOzKhYNqOqqW4YErHS3mLcN8-_QYEI9ilQ7ouVdqhGAM3Qq3pvUEfjkzNuCiUaVXQfxR44i5eZQoTLTZDbzo7lHDQ|fd.AcZw4CkDyjcK2bsJrKUH8T_WOlNidku4mo3tR_n7_XnIYGgQwrgMp1ufv88fyNxqbhlKId8zMGJgN39dV3QNDwXr\",\"app_id\":\"256281040558\",\"enable_bladerunner\":false,\"enable_ack\":true,\"push_phase\":\"C3\",\"enable_observer\":false,\"enable_cmcd_observer\":false,\"enable_dataloss_timer\":false,\"enable_fallback_for_br\":true,\"queue_activation_experiment\":false,\"max_delay_br_queue\":60000,\"max_delay_br_queue_immediate\":3,\"max_delay_br_init_not_complete\":3000,\"consents\":{},\"app_universe\":1,\"br_stateful_migration_exp\":true,\"br_stateful_migration_on\":false,\"enable_non_fb_br_stateless_by_default\":false,\"use_falco_as_mutex_key\":false},5237],[\"cr:1126\",[\"TimeSliceImpl\"],{\"__rc\":[\"TimeSliceImpl\",null]},-1],[\"cr:6640\",[\"PromiseImpl\"],{\"__rc\":[\"PromiseImpl\",null]},-1],[\"cr:7386\",[\"clearTimeoutWWW\"],{\"__rc\":[\"clearTimeoutWWW\",null]},-1],[\"cr:7390\",[\"setTimeoutWWW\"],{\"__rc\":[\"setTimeoutWWW\",null]},-1],[\"cr:925100\",[\"RunBlue\"],{\"__rc\":[\"RunBlue\",null]},-1],[\"cr:7385\",[\"clearIntervalWWW\"],{\"__rc\":[\"clearIntervalWWW\",null]},-1],[\"cr:7389\",[\"setIntervalAcrossTransitionsWWW\"],{\"__rc\":[\"setIntervalAcrossTransitionsWWW\",null]},-1],[\"cr:7391\",[\"setTimeoutAcrossTransitionsWWW\"],{\"__rc\":[\"setTimeoutAcrossTransitionsWWW\",null]},-1],[\"cr:7936\",[\"BlueCompatRouter\"],{\"__rc\":[\"BlueCompatRouter\",null]},-1],[\"cr:696703\",[],{\"__rc\":[null,null]},-1],[\"cr:708886\",[\"EventProfilerImpl\"],{\"__rc\":[\"EventProfilerImpl\",null]},-1],[\"cr:6669\",[\"DataStore\"],{\"__rc\":[\"DataStore\",null]},-1],[\"cr:7740\",[\"RunBlue\"],{\"__rc\":[\"RunBlue\",null]},-1],[\"cr:7730\",[\"getFbtResult\"],{\"__rc\":[\"getFbtResult\",null]},-1],[\"cr:1094907\",[],{\"__rc\":[null,null]},-1],[\"CurrentEnvironment\",[],{\"facebookdotcom\":true,\"messengerdotcom\":false,\"workplacedotcom\":false,\"instagramdotcom\":false,\"workdotmetadotcom\":false,\"horizondotmetadotcom\":false},827],[\"CometAltpayJsSdkIframeAllowedDomains\",[],{\"allowed_domains\":[\"https:\\/\\/live.adyen.com\",\"https:\\/\\/integration-facebook.payu.in\",\"https:\\/\\/facebook.payulatam.com\",\"https:\\/\\/secure.payu.com\",\"https:\\/\\/facebook.dlocal.com\",\"https:\\/\\/buy2.boku.com\"]},4920],[\"EventConfig\",[],{\"sampling\":{\"bandwidth\":0,\"play\":0,\"playing\":0,\"progress\":0,\"pause\":0,\"ended\":0,\"seeked\":0,\"seeking\":0,\"waiting\":0,\"loadedmetadata\":0,\"canplay\":0,\"selectionchange\":0,\"change\":0,\"timeupdate\":0,\"adaptation\":0,\"focus\":0,\"blur\":0,\"load\":0,\"error\":0,\"message\":0,\"abort\":0,\"storage\":0,\"scroll\":200000,\"mousemove\":20000,\"mouseover\":10000,\"mouseout\":10000,\"mousewheel\":1,\"MSPointerMove\":10000,\"keydown\":0.1,\"click\":0.02,\"mouseup\":0.02,\"__100ms\":0.001,\"__default\":5000,\"__min\":100,\"__interactionDefault\":200,\"__eventDefault\":100000},\"page_sampling_boost\":1,\"interaction_regexes\":{},\"interaction_boost\":{},\"event_types\":{},\"manual_instrumentation\":false,\"profile_eager_execution\":false,\"disable_heuristic\":true,\"disable_event_profiler\":false},1726],[\"FbtResultGK\",[],{\"shouldReturnFbtResult\":true,\"inlineMode\":\"NO_INLINE\"},876],[\"cr:806696\",[\"clearTimeoutBlue\"],{\"__rc\":[\"clearTimeoutBlue\",null]},-1],[\"cr:807042\",[\"setTimeoutBlue\"],{\"__rc\":[\"setTimeoutBlue\",null]},-1],[\"cr:1003267\",[\"clearIntervalBlue\"],{\"__rc\":[\"clearIntervalBlue\",null]},-1],[\"cr:896462\",[\"setIntervalAcrossTransitionsBlue\"],{\"__rc\":[\"setIntervalAcrossTransitionsBlue\",null]},-1],[\"cr:986633\",[\"setTimeoutAcrossTransitionsBlue\"],{\"__rc\":[\"setTimeoutAcrossTransitionsBlue\",null]},-1],[\"cr:6799\",[\"EventProfilerAdsSessionProvider\"],{\"__rc\":[\"EventProfilerAdsSessionProvider\",null]},-1],[\"cr:1183579\",[\"InlineFbtResultImpl\"],{\"__rc\":[\"InlineFbtResultImpl\",null]},-1],[\"AdsInterfacesSessionConfig\",[],{},2393]],\"require\":[[\"markJSEnabled\"],[\"lowerDomain\"],[\"URLFragmentPrelude\"],[\"Primer\"],[\"BigPipe\"],[\"Bootloader\"],[\"TimeSlice\"],[\"AsyncRequest\"],[\"FbtLogging\"],[\"IntlQtEventFalcoEvent\"],[\"RequireDeferredReference\",\"unblock\",[],[[\"AsyncRequest\",\"FbtLogging\",\"IntlQtEventFalcoEvent\"],\"sd\"]],[\"RequireDeferredReference\",\"unblock\",[],[[\"AsyncRequest\",\"FbtLogging\",\"IntlQtEventFalcoEvent\"],\"css\"]]]});});</script></head><body class=\"fbx UIPage_LoggedOut _-kb _605a b_c3pyn-ahh chrome webkit win x1 Locale_zh_TW\" dir=\"ltr\"><script nonce=\"NgkcXN0k\" type=\"text/javascript\">requireLazy([\"bootstrapWebSession\"],function(j){j(1701875828)})</script><div class=\"_li\" id=\"u_0_3_+8\"><div data-referrer=\"pagelet_bluebar\" id=\"pagelet_bluebar\"><div id=\"blueBarDOMInspector\"><div class=\"_53jh\"><div class=\"loggedout_menubar_container\"><div class=\"clearfix loggedout_menubar\"><div class=\"lfloat _ohe\"><h1><a href=\"https://www.facebook.com/\" title=\"前往 Facebook 首頁\"><i class=\"fb_logo img sp_EP9wX8qDDvu sx_d5b062\"><u>Facebook</u></i></a></h1></div><div class=\"menu_login_container rfloat _ohf\" data-testid=\"royal_login_form\"><form action=\"https://www.facebook.com/login/device-based/regular/login/?login_attempt=1&amp;lwv=110\" id=\"login_form\" method=\"post\" novalidate=\"1\" onsubmit=\"\"><input autocomplete=\"off\" name=\"jazoest\" type=\"hidden\" value=\"2934\"/><input autocomplete=\"off\" name=\"lsd\" type=\"hidden\" value=\"AVoA685nzas\"/><table cellspacing=\"0\" role=\"presentation\"><tr><td class=\"html7magic\"><label for=\"email\">電子郵件地址或手機號碼</label></td><td class=\"html7magic\"><label for=\"pass\">密碼</label></td></tr><tr><td><input class=\"inputtext login_form_input_box\" data-testid=\"royal_email\" id=\"email\" name=\"email\" type=\"email\"/></td><td><input class=\"inputtext login_form_input_box\" data-testid=\"royal_pass\" id=\"pass\" name=\"pass\" type=\"password\"/></td><td><label class=\"login_form_login_button uiButton uiButtonConfirm\" for=\"u_0_0_ne\" id=\"loginbutton\"><input aria-label=\"登入\" data-testid=\"royal_login_button\" id=\"u_0_0_ne\" type=\"submit\" value=\"登入\"/></label></td></tr><tr><td class=\"login_form_label_field\"></td><td class=\"login_form_label_field\"><div><a href=\"https://www.facebook.com/recover/initiate?lwv=110&amp;ars=royal_blue_bar\">忘記帳號？</a></div></td></tr></table><input autocomplete=\"off\" id=\"u_0_1_jd\" name=\"timezone\" type=\"hidden\" value=\"\"/><input autocomplete=\"off\" id=\"u_0_2_QT\" name=\"lgndim\" type=\"hidden\" value=\"\"/><input name=\"lgnrnd\" type=\"hidden\" value=\"071709_luOn\"/><input id=\"lgnjs\" name=\"lgnjs\" type=\"hidden\" value=\"n\"/><input autocomplete=\"off\" name=\"ab_test_data\" type=\"hidden\" value=\"\"/><input autocomplete=\"off\" id=\"locale\" name=\"locale\" type=\"hidden\" value=\"zh_TW\"/><input autocomplete=\"off\" name=\"next\" type=\"hidden\" value=\"https://www.facebook.com/\"/><input autocomplete=\"off\" name=\"login_source\" type=\"hidden\" value=\"login_bluebar\"/><input autocomplete=\"off\" name=\"guid\" type=\"hidden\" value=\"\"/><input autocomplete=\"off\" id=\"prefill_contact_point\" name=\"prefill_contact_point\" type=\"hidden\"/><input autocomplete=\"off\" id=\"prefill_source\" name=\"prefill_source\" type=\"hidden\"/><input autocomplete=\"off\" id=\"prefill_type\" name=\"prefill_type\" type=\"hidden\"/></form></div></div></div><div class=\"signupBanner\"><div class=\"signup_bar_container\"><div class=\"signup_box clearfix\"><span class=\"signup_box_content\"><a class=\"_42ft _4jy0 signup_btn _4jy4 _4jy2 selected _51sy\" href=\"/r.php?locale=zh_TW\" role=\"button\">註冊</a></span></div></div></div></div></div></div><div class=\"uiContextualLayerParent\" id=\"globalContainer\"><div class=\"fb_content clearfix\" id=\"content\" role=\"main\"><div class=\"UIFullPage_Container\"><div class=\"mvl ptm uiInterstitial uiInterstitialLarge uiBoxWhite\"><div class=\"uiHeader uiHeaderWithImage uiHeaderBottomBorder mhl mts uiHeaderPage interstitialHeader\"><div class=\"clearfix uiHeaderTop\"><div class=\"rfloat _ohf\"><h2 class=\"accessible_elem\">無法處理你的請求</h2><div class=\"uiHeaderActions\"></div></div><div><h2 aria-hidden=\"true\" class=\"uiHeaderTitle\"><i class=\"uiHeaderImage img sp_EP9wX8qDDvu sx_335c64\"></i>無法處理你的請求</h2></div></div></div><div class=\"phl ptm uiInterstitialContent\"><div>處理這個請求時發生問題，我們正盡快修復。</div><ul class=\"uiList mtm _4of _4kg\"><li><div class=\"fcb\"><a href=\"/\">返回首頁</a></div></li></ul></div></div></div></div><div class=\"\"><div data-referrer=\"page_footer\" data-testid=\"page_footer\" id=\"pageFooter\"><ul class=\"uiList localeSelectorList _2pid _509- _4ki _6-h _6-j _6-i\" data-nocookies=\"1\"><li>中文(台灣)</li><li><a class=\"_sv4\" dir=\"ltr\" href=\"https://www.facebook.com/\" onclick='require(\"IntlUtils\").setCookieLocale(\"en_US\", \"zh_TW\", \"https:\\/\\/www.facebook.com\\/\", \"www_list_selector\", 0); return false;' title=\"English (US)\">English (US)</a></li><li><a class=\"_sv4\" dir=\"ltr\" href=\"https://vi-vn.facebook.com/\" onclick='require(\"IntlUtils\").setCookieLocale(\"vi_VN\", \"zh_TW\", \"https:\\/\\/vi-vn.facebook.com\\/\", \"www_list_selector\", 1); return false;' title=\"Vietnamese\">Tiếng Việt</a></li><li><a class=\"_sv4\" dir=\"ltr\" href=\"https://id-id.facebook.com/\" onclick='require(\"IntlUtils\").setCookieLocale(\"id_ID\", \"zh_TW\", \"https:\\/\\/id-id.facebook.com\\/\", \"www_list_selector\", 2); return false;' title=\"Indonesian\">Bahasa Indonesia</a></li><li><a class=\"_sv4\" dir=\"ltr\" href=\"https://th-th.facebook.com/\" onclick='require(\"IntlUtils\").setCookieLocale(\"th_TH\", \"zh_TW\", \"https:\\/\\/th-th.facebook.com\\/\", \"www_list_selector\", 3); return false;' title=\"Thai\">ภาษาไทย</a></li><li><a class=\"_sv4\" dir=\"ltr\" href=\"https://ja-jp.facebook.com/\" onclick='require(\"IntlUtils\").setCookieLocale(\"ja_JP\", \"zh_TW\", \"https:\\/\\/ja-jp.facebook.com\\/\", \"www_list_selector\", 4); return false;' title=\"Japanese\">日本語</a></li><li><a class=\"_sv4\" dir=\"ltr\" href=\"https://es-la.facebook.com/\" onclick='require(\"IntlUtils\").setCookieLocale(\"es_LA\", \"zh_TW\", \"https:\\/\\/es-la.facebook.com\\/\", \"www_list_selector\", 5); return false;' title=\"Spanish\">Español</a></li><li><a class=\"_sv4\" dir=\"ltr\" href=\"https://pt-br.facebook.com/\" onclick='require(\"IntlUtils\").setCookieLocale(\"pt_BR\", \"zh_TW\", \"https:\\/\\/pt-br.facebook.com\\/\", \"www_list_selector\", 6); return false;' title=\"Portuguese (Brazil)\">Português (Brasil)</a></li><li><a class=\"_sv4\" dir=\"ltr\" href=\"https://fr-fr.facebook.com/\" onclick='require(\"IntlUtils\").setCookieLocale(\"fr_FR\", \"zh_TW\", \"https:\\/\\/fr-fr.facebook.com\\/\", \"www_list_selector\", 7); return false;' title=\"French (France)\">Français (France)</a></li><li><a class=\"_sv4\" dir=\"ltr\" href=\"https://de-de.facebook.com/\" onclick='require(\"IntlUtils\").setCookieLocale(\"de_DE\", \"zh_TW\", \"https:\\/\\/de-de.facebook.com\\/\", \"www_list_selector\", 8); return false;' title=\"German\">Deutsch</a></li><li><a class=\"_sv4\" dir=\"ltr\" href=\"https://it-it.facebook.com/\" onclick='require(\"IntlUtils\").setCookieLocale(\"it_IT\", \"zh_TW\", \"https:\\/\\/it-it.facebook.com\\/\", \"www_list_selector\", 9); return false;' title=\"Italian\">Italiano</a></li><li><a ajaxify=\"/settings/language/language/?uri=https%3A%2F%2Fit-it.facebook.com%2F&amp;source=www_list_selector_more\" class=\"_42ft _4jy0 _517i _517h _51sy\" href=\"#\" rel=\"dialog\" role=\"button\" title=\"顯示更多語言\"><i class=\"img sp_EP9wX8qDDvu sx_0de3e6\"></i></a></li></ul><div id=\"contentCurve\"></div><div aria-label=\"Facebook 網站連結\" id=\"pageFooterChildren\" role=\"contentinfo\"><ul class=\"uiList pageFooterLinkList _509- _4ki _703 _6-i\"><li><a href=\"/reg/\" title=\"註冊 Facebook 帳號\">註冊</a></li><li><a href=\"/login/\" title=\"登入 Facebook\">登入</a></li><li><a href=\"https://messenger.com/\" title=\"查看 Messenger。\">Messenger</a></li><li><a href=\"/lite/\" title=\"Android 版 Facebook Lite。\">Facebook Lite</a></li><li><a href=\"https://www.facebook.com/watch/\" title=\"在「影片」頁籤瀏覽\">影片</a></li><li><a href=\"/places/\" title=\"查看 Facebook 的熱門地標。\">地標</a></li><li><a href=\"/games/\" title=\"來玩 Facebook 遊戲。\">遊戲</a></li><li><a href=\"/marketplace/\" title=\"在 Facebook Marketplace 買賣商品。\">Marketplace</a></li><li><a href=\"https://pay.facebook.com/\" target=\"_blank\" title=\"深入瞭解 Meta Pay\">Meta Pay</a></li><li><a href=\"https://www.meta.com/\" target=\"_blank\" title=\"查看 Meta\">Meta Store</a></li><li><a href=\"https://www.meta.com/quest/\" target=\"_blank\" title=\"深入瞭解 Meta Quest\">Meta Quest</a></li><li><a data-lynx-mode=\"asynclazy\" href=\"https://l.facebook.com/l.php?u=https%3A%2F%2Fwww.instagram.com%2F&amp;h=AT3xfBROe7--NxeXaEf-CiYos1HXeQbyYxwT6jzu73vbgaXj84jAdmNmGVYkSBMbUD0kHg_U-8to3_XUiv4zVOiOLz5pe-2fgXkxv04frRZkTWHaBF6CeGWhtJKRnWrna-n27Dq1sXJwvIqLj2CvtBiyLQJbMSPIjpaA2Q\" rel=\"noreferrer nofollow\" target=\"_blank\" title=\"查看 Instagram\">Instagram</a></li><li><a href=\"https://www.threads.net/\" title=\"查看 Threads\">Threads</a></li><li><a href=\"/fundraisers/\" title=\"捐款支持值得關注的公益理念。\">募款活動</a></li><li><a href=\"/biz/directory/\" title=\"瀏覽我們的 Facebook 服務目錄。\">服務</a></li><li><a href=\"/votinginformationcenter/?entry_point=c2l0ZQ%3D%3D\" title=\"查看投票資訊中心。\">投票資訊中心</a></li><li><a href=\"/privacy/policy/?entry_point=facebook_page_footer\" title=\"瞭解我們如何蒐集、使用和分享資料來支持 Facebook。\">《隱私政策》</a></li><li><a href=\"/privacy/center/?entry_point=facebook_page_footer\" title=\"瞭解如何管理和控制 Facebook 隱私設定。\">隱私中心</a></li><li><a href=\"/groups/discover/\" title=\"探索我們的社團。\">社團</a></li><li><a accesskey=\"8\" href=\"https://about.meta.com/\" title=\"追蹤我們的部落格、參考我們的資源中心以及工作機會。\">關於</a></li><li><a href=\"/ad_campaign/landing.php?placement=pflo&amp;campaign_id=402047449186&amp;nav_source=unknown&amp;extra_1=auto\" title=\"在 Facebook 刊登廣告。\">刊登廣告</a></li><li><a href=\"/pages/create/?ref_type=site_footer\" title=\"建立粉絲專頁\">建立粉絲專頁</a></li><li><a href=\"https://developers.facebook.com/?ref=pf\" title=\"使用我們的開發平台\">開發人員</a></li><li><a href=\"/careers/?ref=pf\" title=\"加入成為我們企業的一份子。\">工作機會</a></li><li><a data-nocookies=\"1\" href=\"/policies/cookies/\" title=\"瞭解 Cookie 和 Facebook\">Cookie</a></li><li><a class=\"_41ug\" data-nocookies=\"1\" href=\"https://www.facebook.com/help/568137493302217\" title=\"瞭解 Ad Choices。\">Ad Choices<i class=\"img sp_EP9wX8qDDvu sx_6bdd81\"></i></a></li><li><a accesskey=\"9\" data-nocookies=\"1\" href=\"/policies?ref=pf\" title=\"查閱我們的條款與政策。\">使用條款</a></li><li><a accesskey=\"0\" href=\"/help/?ref=pf\" title=\"前往我們的使用說明。\">使用說明</a></li><li><a href=\"help/637205020878504\" title=\"瀏覽「聯絡人上傳和非用戶」通知。\">聯絡人上傳和非用戶</a></li><li><a accesskey=\"6\" class=\"accessible_elem\" href=\"/settings\" title=\"查看並編輯你的 Facebook 設定。\">設定</a></li><li><a accesskey=\"7\" class=\"accessible_elem\" href=\"/allactivity?privacy_source=activity_log_top_menu\" title=\"查看活動紀錄\">活動紀錄</a></li></ul></div><div class=\"mvl copyright\"><div><span> Meta © 2023</span></div></div></div></div></div><div></div><span><img height=\"0\" src=\"https://facebook.com/security/hsts-pixel.gif\" style=\"display:none\" width=\"0\"/></span></div><div style=\"display:none\"><div></div></div>\n",
       "<script>requireLazy([\"HasteSupportData\"],function(m){m.handle({\"bxData\":{\"875231\":{\"uri\":\"https:\\/\\/static.xx.fbcdn.net\\/rsrc.php\\/yT\\/r\\/aGT3gskzWBf.ico\"}},\"clpData\":{\"1743095\":{\"r\":1,\"s\":1}},\"gkxData\":{\"1652843\":{\"result\":false,\"hash\":null},\"996940\":{\"result\":false,\"hash\":null}}})});requireLazy([\"Bootloader\"],function(m){m.handlePayload({\"consistency\":{\"rev\":1010238839},\"rsrcMap\":{\"inWD2ea\":{\"type\":\"js\",\"src\":\"https:\\/\\/static.xx.fbcdn.net\\/rsrc.php\\/v3\\/ye\\/r\\/a_TNkY9RAW1.js?_nc_x=Ij3Wp8lg5Kz\"},\"6tTjOTm\":{\"type\":\"js\",\"src\":\"https:\\/\\/static.xx.fbcdn.net\\/rsrc.php\\/v3\\/yh\\/r\\/bpW4eEg-2_W.js?_nc_x=Ij3Wp8lg5Kz\"},\"bgiCPxs\":{\"type\":\"js\",\"src\":\"https:\\/\\/static.xx.fbcdn.net\\/rsrc.php\\/v3\\/ya\\/r\\/GxGC52INhg0.js?_nc_x=Ij3Wp8lg5Kz\"},\"oqOkWfc\":{\"type\":\"js\",\"src\":\"https:\\/\\/static.xx.fbcdn.net\\/rsrc.php\\/v3\\/y5\\/r\\/ozhfjlSIILu.js?_nc_x=Ij3Wp8lg5Kz\"},\"bZ75lyp\":{\"type\":\"js\",\"src\":\"https:\\/\\/static.xx.fbcdn.net\\/rsrc.php\\/v3\\/yC\\/r\\/dhEcYbn0Yv0.js?_nc_x=Ij3Wp8lg5Kz\"},\"J1F5ETJ\":{\"type\":\"js\",\"src\":\"https:\\/\\/static.xx.fbcdn.net\\/rsrc.php\\/v3itRU4\\/y8\\/l\\/zh_TW\\/zXCBFr_4MnG.js?_nc_x=Ij3Wp8lg5Kz\"},\"U7LpmoG\":{\"type\":\"js\",\"src\":\"https:\\/\\/static.xx.fbcdn.net\\/rsrc.php\\/v3iBmv4\\/yJ\\/l\\/zh_TW\\/PDcydCeyaR_.js?_nc_x=Ij3Wp8lg5Kz\"},\"coXAcdj\":{\"type\":\"js\",\"src\":\"https:\\/\\/static.xx.fbcdn.net\\/rsrc.php\\/v3\\/yw\\/r\\/wm4d5zAAo-a.js?_nc_x=Ij3Wp8lg5Kz\"},\"+Fu52I4\":{\"type\":\"js\",\"src\":\"https:\\/\\/static.xx.fbcdn.net\\/rsrc.php\\/v3\\/yy\\/r\\/QcYlxMWQTQ-.js?_nc_x=Ij3Wp8lg5Kz\"},\"qdu9zGJ\":{\"type\":\"js\",\"src\":\"https:\\/\\/static.xx.fbcdn.net\\/rsrc.php\\/v3\\/yH\\/r\\/EEh1AYcUYds.js?_nc_x=Ij3Wp8lg5Kz\"},\"pm0B5MU\":{\"type\":\"js\",\"src\":\"https:\\/\\/static.xx.fbcdn.net\\/rsrc.php\\/v3\\/yO\\/r\\/WjW7fIWvBra.js?_nc_x=Ij3Wp8lg5Kz\"},\"kWyeNZx\":{\"type\":\"js\",\"src\":\"https:\\/\\/static.xx.fbcdn.net\\/rsrc.php\\/v3\\/yE\\/r\\/hNaGl-uOTME.js?_nc_x=Ij3Wp8lg5Kz\"},\"cg8PYlf\":{\"type\":\"js\",\"src\":\"https:\\/\\/static.xx.fbcdn.net\\/rsrc.php\\/v3i63m4\\/yw\\/l\\/zh_TW\\/zCcrlT2XcB6.js?_nc_x=Ij3Wp8lg5Kz\"},\"ZVejPaf\":{\"type\":\"js\",\"src\":\"https:\\/\\/static.xx.fbcdn.net\\/rsrc.php\\/v3\\/y7\\/r\\/uI48pQbdqMg.js?_nc_x=Ij3Wp8lg5Kz\"},\"2MYQsw8\":{\"type\":\"js\",\"src\":\"https:\\/\\/static.xx.fbcdn.net\\/rsrc.php\\/v3\\/yk\\/r\\/fl4AHceD6Oj.js?_nc_x=Ij3Wp8lg5Kz\"},\"R5w1rCJ\":{\"type\":\"js\",\"src\":\"https:\\/\\/static.xx.fbcdn.net\\/rsrc.php\\/v3\\/yF\\/r\\/p55HfXW__mM.js?_nc_x=Ij3Wp8lg5Kz\"},\"\\/AN8Bt5\":{\"type\":\"js\",\"src\":\"https:\\/\\/static.xx.fbcdn.net\\/rsrc.php\\/v3\\/y2\\/r\\/3FPJ9YC_wUr.js?_nc_x=Ij3Wp8lg5Kz\"},\"LD9\\/h08\":{\"type\":\"js\",\"src\":\"https:\\/\\/static.xx.fbcdn.net\\/rsrc.php\\/v3\\/yX\\/r\\/gm994fGL-1d.js?_nc_x=Ij3Wp8lg5Kz\"},\"+1Aeafa\":{\"type\":\"css\",\"src\":\"https:\\/\\/static.xx.fbcdn.net\\/rsrc.php\\/v3\\/yi\\/l\\/1,cross\\/8JB-n81yp-l.css?_nc_x=Ij3Wp8lg5Kz\"},\"AiayOh0\":{\"type\":\"js\",\"src\":\"https:\\/\\/static.xx.fbcdn.net\\/rsrc.php\\/v3\\/yI\\/r\\/5tYv3Fgg2PJ.js?_nc_x=Ij3Wp8lg5Kz\"},\"zGBCGbP\":{\"type\":\"js\",\"src\":\"https:\\/\\/static.xx.fbcdn.net\\/rsrc.php\\/v3\\/yf\\/r\\/t6t6mVeu0oB.js?_nc_x=Ij3Wp8lg5Kz\"},\"4+OLCrF\":{\"type\":\"js\",\"src\":\"https:\\/\\/static.xx.fbcdn.net\\/rsrc.php\\/v3\\/yQ\\/r\\/geFXFP-CCk9.js?_nc_x=Ij3Wp8lg5Kz\"},\"Hsv+kzV\":{\"type\":\"js\",\"src\":\"https:\\/\\/static.xx.fbcdn.net\\/rsrc.php\\/v3iFlH4\\/yL\\/l\\/zh_TW\\/efGlX2rJY5S.js?_nc_x=Ij3Wp8lg5Kz\"},\"aNJNbhK\":{\"type\":\"js\",\"src\":\"https:\\/\\/static.xx.fbcdn.net\\/rsrc.php\\/v3ir4z4\\/yz\\/l\\/zh_TW\\/7N_ooaQg2p8.js?_nc_x=Ij3Wp8lg5Kz\"},\"Xwg\\/2An\":{\"type\":\"js\",\"src\":\"https:\\/\\/static.xx.fbcdn.net\\/rsrc.php\\/v3\\/yb\\/r\\/CyzOfhp1pCr.js?_nc_x=Ij3Wp8lg5Kz\"},\"67mMh9Z\":{\"type\":\"js\",\"src\":\"https:\\/\\/static.xx.fbcdn.net\\/rsrc.php\\/v3ilxu4\\/yC\\/l\\/zh_TW\\/0v7KHI0WB09.js?_nc_x=Ij3Wp8lg5Kz\"},\"qZNiTzp\":{\"type\":\"js\",\"src\":\"https:\\/\\/static.xx.fbcdn.net\\/rsrc.php\\/v3\\/yS\\/r\\/SMSrThdNn1k.js?_nc_x=Ij3Wp8lg5Kz\"},\"W71ZZuY\":{\"type\":\"js\",\"src\":\"https:\\/\\/static.xx.fbcdn.net\\/rsrc.php\\/v3\\/y8\\/r\\/0GF60MB-gsR.js?_nc_x=Ij3Wp8lg5Kz\"},\"Lfg2XHL\":{\"type\":\"js\",\"src\":\"https:\\/\\/static.xx.fbcdn.net\\/rsrc.php\\/v3i5l84\\/yv\\/l\\/zh_TW\\/D8uBCuJusaZ.js?_nc_x=Ij3Wp8lg5Kz\"},\"uUn+XE0\":{\"type\":\"js\",\"src\":\"https:\\/\\/static.xx.fbcdn.net\\/rsrc.php\\/v3iU-H4\\/yW\\/l\\/zh_TW\\/gOEAJ_prmFH.js?_nc_x=Ij3Wp8lg5Kz\"},\"KiO5srH\":{\"type\":\"js\",\"src\":\"https:\\/\\/static.xx.fbcdn.net\\/rsrc.php\\/v3\\/ye\\/r\\/7sebS_k-Qfs.js?_nc_x=Ij3Wp8lg5Kz\"},\"X+gpPFv\":{\"type\":\"js\",\"src\":\"https:\\/\\/static.xx.fbcdn.net\\/rsrc.php\\/v3\\/y1\\/r\\/EClxS8wgFa2.js?_nc_x=Ij3Wp8lg5Kz\"},\"UZIP3gE\":{\"type\":\"js\",\"src\":\"https:\\/\\/static.xx.fbcdn.net\\/rsrc.php\\/v3\\/yZ\\/r\\/0CSBUz_EdNr.js?_nc_x=Ij3Wp8lg5Kz\"},\"RVo0tks\":{\"type\":\"css\",\"src\":\"https:\\/\\/static.xx.fbcdn.net\\/rsrc.php\\/v3\\/yA\\/l\\/1,cross\\/cXbN3aH1Xae.css?_nc_x=Ij3Wp8lg5Kz\"},\"Jlnt5+j\":{\"type\":\"css\",\"src\":\"https:\\/\\/static.xx.fbcdn.net\\/rsrc.php\\/v3\\/yz\\/l\\/1,cross\\/qXdguFvDesy.css?_nc_x=Ij3Wp8lg5Kz\"},\"GTko5Aj\":{\"type\":\"js\",\"src\":\"https:\\/\\/static.xx.fbcdn.net\\/rsrc.php\\/v3i1iQ4\\/yb\\/l\\/zh_TW\\/yKgft2FxeOT.js?_nc_x=Ij3Wp8lg5Kz\"},\"WVLNrHe\":{\"type\":\"css\",\"src\":\"https:\\/\\/static.xx.fbcdn.net\\/rsrc.php\\/v3\\/ys\\/l\\/1,cross\\/XeKOIsWglF5.css?_nc_x=Ij3Wp8lg5Kz\"},\"+ydVE+r\":{\"type\":\"js\",\"src\":\"https:\\/\\/static.xx.fbcdn.net\\/rsrc.php\\/v3iwcb4\\/yj\\/l\\/zh_TW\\/c7t1NQltNLD.js?_nc_x=Ij3Wp8lg5Kz\"},\"byNI0WG\":{\"type\":\"css\",\"src\":\"https:\\/\\/static.xx.fbcdn.net\\/rsrc.php\\/v3\\/yV\\/l\\/1,cross\\/5LzHV3SD2Yu.css?_nc_x=Ij3Wp8lg5Kz\"},\"S+ofFEa\":{\"type\":\"js\",\"src\":\"https:\\/\\/static.xx.fbcdn.net\\/rsrc.php\\/v3ilVs4\\/yG\\/l\\/zh_TW\\/FbE0mL_sk_K.js?_nc_x=Ij3Wp8lg5Kz\"},\"dajHsgM\":{\"type\":\"js\",\"src\":\"https:\\/\\/static.xx.fbcdn.net\\/rsrc.php\\/v3i5u74\\/yq\\/l\\/zh_TW\\/rV4VQC0A8px.js?_nc_x=Ij3Wp8lg5Kz\"},\"HpIFudo\":{\"type\":\"js\",\"src\":\"https:\\/\\/static.xx.fbcdn.net\\/rsrc.php\\/v3\\/yE\\/r\\/89y9SlfRbrT.js?_nc_x=Ij3Wp8lg5Kz\"},\"xmQ8ufP\":{\"type\":\"js\",\"src\":\"https:\\/\\/static.xx.fbcdn.net\\/rsrc.php\\/v3\\/yk\\/r\\/I51wBX4H6BQ.js?_nc_x=Ij3Wp8lg5Kz\"},\"rusquG1\":{\"type\":\"js\",\"src\":\"https:\\/\\/static.xx.fbcdn.net\\/rsrc.php\\/v3iCAO4\\/yw\\/l\\/zh_TW\\/IF9Q7Odd6iB.js?_nc_x=Ij3Wp8lg5Kz\"},\"62yCEfA\":{\"type\":\"js\",\"src\":\"https:\\/\\/static.xx.fbcdn.net\\/rsrc.php\\/v3\\/yN\\/r\\/SRxGInfyLYU.js?_nc_x=Ij3Wp8lg5Kz\"},\"SGs16Sf\":{\"type\":\"css\",\"src\":\"https:\\/\\/static.xx.fbcdn.net\\/rsrc.php\\/v3\\/yr\\/l\\/1,cross\\/STul-1KCqEy.css?_nc_x=Ij3Wp8lg5Kz\"},\"Axy6UF0\":{\"type\":\"js\",\"src\":\"https:\\/\\/static.xx.fbcdn.net\\/rsrc.php\\/v3\\/yo\\/r\\/sNqVkTYcasZ.js?_nc_x=Ij3Wp8lg5Kz\"},\"xMHUIVp\":{\"type\":\"js\",\"src\":\"https:\\/\\/static.xx.fbcdn.net\\/rsrc.php\\/v3icxM4\\/yL\\/l\\/zh_TW\\/AMa9Wm1Suih.js?_nc_x=Ij3Wp8lg5Kz\"},\"lkLGCcW\":{\"type\":\"js\",\"src\":\"https:\\/\\/static.xx.fbcdn.net\\/rsrc.php\\/v3\\/yK\\/r\\/r_jcEh60Mmn.js?_nc_x=Ij3Wp8lg5Kz\"},\"iIftanq\":{\"type\":\"js\",\"src\":\"https:\\/\\/static.xx.fbcdn.net\\/rsrc.php\\/v3iFvO4\\/yT\\/l\\/zh_TW\\/-2pPjXKgSwB.js?_nc_x=Ij3Wp8lg5Kz\"},\"kchZBWA\":{\"type\":\"js\",\"src\":\"https:\\/\\/static.xx.fbcdn.net\\/rsrc.php\\/v3i-7L4\\/yr\\/l\\/zh_TW\\/nKBczrXd7xd.js?_nc_x=Ij3Wp8lg5Kz\"},\"OZilsMj\":{\"type\":\"js\",\"src\":\"https:\\/\\/static.xx.fbcdn.net\\/rsrc.php\\/v3iMCb4\\/yt\\/l\\/zh_TW\\/e4FW1omehls.js?_nc_x=Ij3Wp8lg5Kz\"},\"vLV78KS\":{\"type\":\"js\",\"src\":\"https:\\/\\/static.xx.fbcdn.net\\/rsrc.php\\/v3\\/yl\\/r\\/RFpzSvbpqRi.js?_nc_x=Ij3Wp8lg5Kz\"},\"pPgo9p+\":{\"type\":\"js\",\"src\":\"https:\\/\\/static.xx.fbcdn.net\\/rsrc.php\\/v3\\/yh\\/r\\/ysfm_2i9xtW.js?_nc_x=Ij3Wp8lg5Kz\"},\"jsByKBH\":{\"type\":\"css\",\"src\":\"https:\\/\\/static.xx.fbcdn.net\\/rsrc.php\\/v3\\/yf\\/l\\/1,cross\\/7cYBtZM1s5y.css?_nc_x=Ij3Wp8lg5Kz\"},\"dypiefP\":{\"type\":\"js\",\"src\":\"https:\\/\\/static.xx.fbcdn.net\\/rsrc.php\\/v3itHe4\\/yB\\/l\\/zh_TW\\/dUWjy0r5Ua5.js?_nc_x=Ij3Wp8lg5Kz\"},\"YfgBnrM\":{\"type\":\"js\",\"src\":\"https:\\/\\/static.xx.fbcdn.net\\/rsrc.php\\/v3izBe4\\/yN\\/l\\/zh_TW\\/1bNSJciq29s.js?_nc_x=Ij3Wp8lg5Kz\"},\"9wlZLUU\":{\"type\":\"js\",\"src\":\"https:\\/\\/static.xx.fbcdn.net\\/rsrc.php\\/v3i8594\\/yy\\/l\\/zh_TW\\/Xv6fZvyuQJj.js?_nc_x=Ij3Wp8lg5Kz\"},\"GLw2Uhc\":{\"type\":\"js\",\"src\":\"https:\\/\\/static.xx.fbcdn.net\\/rsrc.php\\/v3i5U74\\/yp\\/l\\/zh_TW\\/lGeB9iIeokF.js?_nc_x=Ij3Wp8lg5Kz\"},\"BOfcLZG\":{\"type\":\"js\",\"src\":\"https:\\/\\/static.xx.fbcdn.net\\/rsrc.php\\/v3\\/yZ\\/r\\/Y8YoPGcGb0i.js?_nc_x=Ij3Wp8lg5Kz\"},\"u6dL94x\":{\"type\":\"css\",\"src\":\"https:\\/\\/static.xx.fbcdn.net\\/rsrc.php\\/v3\\/yj\\/l\\/1,cross\\/caIxZ-4-Lwa.css?_nc_x=Ij3Wp8lg5Kz\"},\"dktQiqa\":{\"type\":\"js\",\"src\":\"https:\\/\\/static.xx.fbcdn.net\\/rsrc.php\\/v3iga44\\/y-\\/l\\/zh_TW\\/F_glFwKAgBv.js?_nc_x=Ij3Wp8lg5Kz\"},\"O5qCRQF\":{\"type\":\"js\",\"src\":\"https:\\/\\/static.xx.fbcdn.net\\/rsrc.php\\/v3\\/yD\\/r\\/u1fduC4ASWS.js?_nc_x=Ij3Wp8lg5Kz\"},\"tmFAZsh\":{\"type\":\"css\",\"src\":\"https:\\/\\/static.xx.fbcdn.net\\/rsrc.php\\/v3\\/yI\\/l\\/1,cross\\/ohJZDV5ed44.css?_nc_x=Ij3Wp8lg5Kz\"},\"69PO8Tr\":{\"type\":\"css\",\"src\":\"https:\\/\\/static.xx.fbcdn.net\\/rsrc.php\\/v3\\/y-\\/l\\/1,cross\\/5eKFKBPJhT5.css?_nc_x=Ij3Wp8lg5Kz\"},\"IHGOWvv\":{\"type\":\"js\",\"src\":\"https:\\/\\/static.xx.fbcdn.net\\/rsrc.php\\/v3iFvO4\\/yc\\/l\\/zh_TW\\/H_PvSp8XIkX.js?_nc_x=Ij3Wp8lg5Kz\"},\"\\/vaaVbw\":{\"type\":\"css\",\"src\":\"https:\\/\\/static.xx.fbcdn.net\\/rsrc.php\\/v3\\/yC\\/l\\/1,cross\\/XrTq8UgQEJT.css?_nc_x=Ij3Wp8lg5Kz\"},\"rg7dUCz\":{\"type\":\"css\",\"src\":\"https:\\/\\/static.xx.fbcdn.net\\/rsrc.php\\/v3\\/yM\\/l\\/1,cross\\/JONaPw1m_MK.css?_nc_x=Ij3Wp8lg5Kz\"},\"kbNcFHl\":{\"type\":\"js\",\"src\":\"https:\\/\\/static.xx.fbcdn.net\\/rsrc.php\\/v3\\/yh\\/r\\/rdmuB5GRf66.js?_nc_x=Ij3Wp8lg5Kz\"},\"K\\/ux4Ic\":{\"type\":\"js\",\"src\":\"https:\\/\\/static.xx.fbcdn.net\\/rsrc.php\\/v3\\/yC\\/r\\/cbma-KWv_Kp.js?_nc_x=Ij3Wp8lg5Kz\"},\"iqP5D5F\":{\"type\":\"js\",\"src\":\"https:\\/\\/static.xx.fbcdn.net\\/rsrc.php\\/v3i3kX4\\/ye\\/l\\/zh_TW\\/KT0VQ2I5DzP.js?_nc_x=Ij3Wp8lg5Kz\"},\"xowDUam\":{\"type\":\"css\",\"src\":\"https:\\/\\/static.xx.fbcdn.net\\/rsrc.php\\/v3\\/yC\\/l\\/1,cross\\/aihwnB06NRP.css?_nc_x=Ij3Wp8lg5Kz\"},\"KTJXyzv\":{\"type\":\"js\",\"src\":\"https:\\/\\/static.xx.fbcdn.net\\/rsrc.php\\/v3\\/yG\\/r\\/Mdl4See5q5E.js?_nc_x=Ij3Wp8lg5Kz\"},\"xsFg75a\":{\"type\":\"js\",\"src\":\"https:\\/\\/static.xx.fbcdn.net\\/rsrc.php\\/v3\\/yt\\/r\\/mnLc1TS2Wp-.js?_nc_x=Ij3Wp8lg5Kz\"},\"aEwSXz4\":{\"type\":\"js\",\"src\":\"https:\\/\\/static.xx.fbcdn.net\\/rsrc.php\\/v3\\/yP\\/r\\/aBIoq18cchP.js?_nc_x=Ij3Wp8lg5Kz\"},\"rCasuzG\":{\"type\":\"js\",\"src\":\"https:\\/\\/static.xx.fbcdn.net\\/rsrc.php\\/v3\\/yA\\/r\\/OzWmCcYw0wO.js?_nc_x=Ij3Wp8lg5Kz\"},\"R7mqa9A\":{\"type\":\"js\",\"src\":\"https:\\/\\/static.xx.fbcdn.net\\/rsrc.php\\/v3iVVz4\\/yv\\/l\\/zh_TW\\/Y0o0Fr2GMBb.js?_nc_x=Ij3Wp8lg5Kz\"},\"dOIpOnG\":{\"type\":\"js\",\"src\":\"https:\\/\\/static.xx.fbcdn.net\\/rsrc.php\\/v3\\/yj\\/r\\/VOHvIIdL0BD.js?_nc_x=Ij3Wp8lg5Kz\"},\"SWx3yNv\":{\"type\":\"js\",\"src\":\"https:\\/\\/static.xx.fbcdn.net\\/rsrc.php\\/v3\\/y7\\/r\\/g__eV5OXSXl.js?_nc_x=Ij3Wp8lg5Kz\"},\"x22Oby4\":{\"type\":\"js\",\"src\":\"https:\\/\\/static.xx.fbcdn.net\\/rsrc.php\\/v3\\/yZ\\/r\\/tVshp1OIV9l.js?_nc_x=Ij3Wp8lg5Kz\"},\"8ELCBwH\":{\"type\":\"js\",\"src\":\"https:\\/\\/static.xx.fbcdn.net\\/rsrc.php\\/v3\\/ye\\/r\\/VRzSVH5iU-V.js?_nc_x=Ij3Wp8lg5Kz\"},\"SKLfEIC\":{\"type\":\"js\",\"src\":\"https:\\/\\/static.xx.fbcdn.net\\/rsrc.php\\/v3iXLX4\\/yN\\/l\\/zh_TW\\/vyGylxVhhUs.js?_nc_x=Ij3Wp8lg5Kz\"},\"oE4DofT\":{\"type\":\"js\",\"src\":\"https:\\/\\/static.xx.fbcdn.net\\/rsrc.php\\/v3\\/yJ\\/r\\/EejAgnHUad4.js?_nc_x=Ij3Wp8lg5Kz\"},\"QyoftxH\":{\"type\":\"js\",\"src\":\"https:\\/\\/static.xx.fbcdn.net\\/rsrc.php\\/v3\\/yL\\/r\\/j-_AFWnS2kv.js?_nc_x=Ij3Wp8lg5Kz\"},\"H\\/5lfuF\":{\"type\":\"js\",\"src\":\"https:\\/\\/static.xx.fbcdn.net\\/rsrc.php\\/v3\\/yF\\/r\\/iqrvM8jAXX7.js?_nc_x=Ij3Wp8lg5Kz\"},\"17Grp2h\":{\"type\":\"js\",\"src\":\"https:\\/\\/static.xx.fbcdn.net\\/rsrc.php\\/v3\\/y-\\/r\\/HhbMrxvaW_H.js?_nc_x=Ij3Wp8lg5Kz\"},\"QIamfde\":{\"type\":\"js\",\"src\":\"https:\\/\\/static.xx.fbcdn.net\\/rsrc.php\\/v3\\/yA\\/r\\/Y37sQzk-yb8.js?_nc_x=Ij3Wp8lg5Kz\"},\"TMCnFn9\":{\"type\":\"js\",\"src\":\"https:\\/\\/static.xx.fbcdn.net\\/rsrc.php\\/v3\\/yJ\\/r\\/a1OLcVhluEP.js?_nc_x=Ij3Wp8lg5Kz\"},\"dlMdW7h\":{\"type\":\"js\",\"src\":\"https:\\/\\/static.xx.fbcdn.net\\/rsrc.php\\/v3\\/yv\\/r\\/qvzskUrYlYC.js?_nc_x=Ij3Wp8lg5Kz\"},\"BFolX4R\":{\"type\":\"js\",\"src\":\"https:\\/\\/static.xx.fbcdn.net\\/rsrc.php\\/v3\\/yp\\/r\\/sKtrEJAtiUM.js?_nc_x=Ij3Wp8lg5Kz\"},\"P\\/mr5VE\":{\"type\":\"css\",\"src\":\"data:text\\/css; charset=utf-8,\\u002523bootloader_P_mr5VE{height:42px;}.bootloader_P_mr5VE{display:block!important;}\",\"nc\":1,\"d\":1}},\"compMap\":{\"Dock\":{\"r\":[\"inWD2ea\",\"6tTjOTm\",\"bgiCPxs\",\"oqOkWfc\",\"GrqIbBd\",\"bZ75lyp\",\"ITu32E2\",\"J1F5ETJ\",\"U7LpmoG\",\"coXAcdj\",\"+Fu52I4\",\"qdu9zGJ\"],\"be\":1},\"WebSpeedInteractionsTypedLogger\":{\"r\":[\"bgiCPxs\",\"pm0B5MU\",\"kWyeNZx\"],\"be\":1},\"AsyncRequest\":{\"r\":[\"inWD2ea\",\"6tTjOTm\",\"bgiCPxs\",\"cg8PYlf\",\"GrqIbBd\"],\"rds\":{\"m\":[\"FbtLogging\",\"IntlQtEventFalcoEvent\"]},\"be\":1},\"DOM\":{\"r\":[\"inWD2ea\",\"bgiCPxs\",\"GrqIbBd\"],\"be\":1},\"Form\":{\"r\":[\"inWD2ea\",\"bgiCPxs\",\"ZVejPaf\",\"GrqIbBd\"],\"be\":1},\"FormSubmit\":{\"r\":[\"inWD2ea\",\"6tTjOTm\",\"bgiCPxs\",\"2MYQsw8\",\"cg8PYlf\",\"ZVejPaf\",\"GrqIbBd\"],\"rds\":{\"m\":[\"FbtLogging\",\"IntlQtEventFalcoEvent\"]},\"be\":1},\"Input\":{\"r\":[\"ZVejPaf\"],\"be\":1},\"Toggler\":{\"r\":[\"inWD2ea\",\"6tTjOTm\",\"bgiCPxs\",\"GrqIbBd\",\"bZ75lyp\",\"ITu32E2\",\"coXAcdj\",\"+Fu52I4\",\"qdu9zGJ\"],\"be\":1},\"Tooltip\":{\"r\":[\"inWD2ea\",\"R5w1rCJ\",\"6tTjOTm\",\"bgiCPxs\",\"vqOi3g3\",\"oqOkWfc\",\"GrqIbBd\",\"bZ75lyp\",\"J1F5ETJ\",\"cg8PYlf\",\"\\/AN8Bt5\",\"LD9\\/h08\",\"+Fu52I4\",\"+1Aeafa\",\"qdu9zGJ\",\"AiayOh0\",\"zGBCGbP\",\"ZVejPaf\",\"coXAcdj\",\"4+OLCrF\"],\"rds\":{\"m\":[\"FbtLogging\",\"IntlQtEventFalcoEvent\",\"PageTransitions\",\"Animation\"]},\"be\":1},\"URI\":{\"r\":[],\"be\":1},\"trackReferrer\":{\"r\":[],\"be\":1},\"PhotoTagApproval\":{\"r\":[\"inWD2ea\",\"Hsv+kzV\",\"aNJNbhK\",\"bgiCPxs\",\"GrqIbBd\"],\"be\":1},\"PhotoSnowlift\":{\"r\":[\"inWD2ea\",\"Xwg\\/2An\",\"R5w1rCJ\",\"67mMh9Z\",\"qZNiTzp\",\"4+OLCrF\",\"0Bj1L9r\",\"W71ZZuY\",\"Lfg2XHL\",\"Ynnl66x\",\"uUn+XE0\",\"KiO5srH\",\"X+gpPFv\",\"UZIP3gE\",\"aNJNbhK\",\"RVo0tks\",\"6tTjOTm\",\"bgiCPxs\",\"zGBCGbP\",\"Jlnt5+j\",\"vqOi3g3\",\"GTko5Aj\",\"WVLNrHe\",\"oqOkWfc\",\"+ydVE+r\",\"GrqIbBd\",\"bZ75lyp\",\"ITu32E2\",\"byNI0WG\",\"S+ofFEa\",\"dajHsgM\",\"J1F5ETJ\",\"U7LpmoG\",\"HpIFudo\",\"xmQ8ufP\",\"cg8PYlf\",\"rusquG1\",\"62yCEfA\",\"SGs16Sf\",\"ZVejPaf\",\"coXAcdj\",\"\\/AN8Bt5\",\"Axy6UF0\",\"xMHUIVp\",\"lkLGCcW\",\"LD9\\/h08\",\"iIftanq\",\"kchZBWA\",\"+Fu52I4\",\"OZilsMj\",\"vLV78KS\",\"+1Aeafa\",\"qdu9zGJ\",\"pPgo9p+\",\"jsByKBH\",\"dypiefP\",\"YfgBnrM\",\"9wlZLUU\",\"GLw2Uhc\",\"AiayOh0\",\"BOfcLZG\",\"kWyeNZx\",\"u6dL94x\"],\"rds\":{\"m\":[\"Animation\",\"FbtLogging\",\"IntlQtEventFalcoEvent\",\"PageTransitions\"]},\"be\":1},\"PhotoTagger\":{\"r\":[\"inWD2ea\",\"R5w1rCJ\",\"Hsv+kzV\",\"4+OLCrF\",\"0Bj1L9r\",\"dktQiqa\",\"aNJNbhK\",\"6tTjOTm\",\"bgiCPxs\",\"vqOi3g3\",\"GTko5Aj\",\"oqOkWfc\",\"GrqIbBd\",\"O5qCRQF\",\"bZ75lyp\",\"ITu32E2\",\"tmFAZsh\",\"J1F5ETJ\",\"xmQ8ufP\",\"cg8PYlf\",\"rusquG1\",\"69PO8Tr\",\"IHGOWvv\",\"ZVejPaf\",\"\\/AN8Bt5\",\"LD9\\/h08\",\"+Fu52I4\",\"+1Aeafa\",\"qdu9zGJ\",\"\\/vaaVbw\",\"rg7dUCz\",\"AiayOh0\",\"YfgBnrM\",\"kWyeNZx\",\"zGBCGbP\",\"coXAcdj\"],\"rds\":{\"m\":[\"FbtLogging\",\"IntlQtEventFalcoEvent\",\"PageTransitions\",\"Animation\"]},\"be\":1},\"PhotoTags\":{\"r\":[\"inWD2ea\",\"Hsv+kzV\",\"aNJNbhK\",\"bgiCPxs\",\"qdu9zGJ\",\"GrqIbBd\"],\"be\":1},\"TagTokenizer\":{\"r\":[\"inWD2ea\",\"Hsv+kzV\",\"bgiCPxs\",\"kbNcFHl\",\"Jlnt5+j\",\"GTko5Aj\",\"GrqIbBd\",\"ZVejPaf\",\"K\\/ux4Ic\",\"iqP5D5F\",\"xowDUam\",\"+Fu52I4\",\"qdu9zGJ\",\"\\/vaaVbw\"],\"rds\":{\"m\":[\"FbtLogging\",\"IntlQtEventFalcoEvent\"],\"r\":[\"cg8PYlf\"]},\"be\":1},\"AsyncDialog\":{\"r\":[\"inWD2ea\",\"Xwg\\/2An\",\"R5w1rCJ\",\"4+OLCrF\",\"0Bj1L9r\",\"Ynnl66x\",\"6tTjOTm\",\"bgiCPxs\",\"oqOkWfc\",\"GrqIbBd\",\"bZ75lyp\",\"ITu32E2\",\"J1F5ETJ\",\"cg8PYlf\",\"ZVejPaf\",\"coXAcdj\",\"LD9\\/h08\",\"iIftanq\",\"+Fu52I4\",\"+1Aeafa\",\"qdu9zGJ\",\"pPgo9p+\",\"GLw2Uhc\",\"AiayOh0\",\"BOfcLZG\",\"YfgBnrM\"],\"rds\":{\"m\":[\"FbtLogging\",\"IntlQtEventFalcoEvent\"]},\"be\":1},\"Hovercard\":{\"r\":[\"inWD2ea\",\"R5w1rCJ\",\"0Bj1L9r\",\"dktQiqa\",\"6tTjOTm\",\"bgiCPxs\",\"vqOi3g3\",\"GTko5Aj\",\"oqOkWfc\",\"GrqIbBd\",\"bZ75lyp\",\"ITu32E2\",\"J1F5ETJ\",\"cg8PYlf\",\"69PO8Tr\",\"IHGOWvv\",\"ZVejPaf\",\"\\/AN8Bt5\",\"LD9\\/h08\",\"+Fu52I4\",\"+1Aeafa\",\"qdu9zGJ\",\"\\/vaaVbw\",\"rg7dUCz\",\"AiayOh0\",\"kWyeNZx\",\"zGBCGbP\",\"coXAcdj\",\"4+OLCrF\"],\"rds\":{\"m\":[\"FbtLogging\",\"IntlQtEventFalcoEvent\",\"PageTransitions\",\"Animation\"]},\"be\":1},\"XSalesPromoWWWDetailsDialogAsyncController\":{\"r\":[\"KTJXyzv\",\"cg8PYlf\"],\"be\":1},\"XOfferController\":{\"r\":[\"xsFg75a\",\"cg8PYlf\"],\"be\":1},\"PerfXSharedFields\":{\"r\":[\"inWD2ea\",\"aEwSXz4\"],\"be\":1},\"KeyEventTypedLogger\":{\"r\":[\"bgiCPxs\",\"rCasuzG\",\"kWyeNZx\"],\"be\":1},\"Dialog\":{\"r\":[\"inWD2ea\",\"0Bj1L9r\",\"6tTjOTm\",\"bgiCPxs\",\"oqOkWfc\",\"GrqIbBd\",\"bZ75lyp\",\"ITu32E2\",\"dajHsgM\",\"J1F5ETJ\",\"cg8PYlf\",\"ZVejPaf\",\"+Fu52I4\",\"qdu9zGJ\",\"jsByKBH\",\"R5w1rCJ\",\"zGBCGbP\",\"coXAcdj\",\"4+OLCrF\"],\"rds\":{\"m\":[\"FbtLogging\",\"IntlQtEventFalcoEvent\",\"Animation\",\"PageTransitions\"]},\"be\":1},\"ExceptionDialog\":{\"r\":[\"inWD2ea\",\"Xwg\\/2An\",\"R5w1rCJ\",\"0Bj1L9r\",\"Ynnl66x\",\"R7mqa9A\",\"6tTjOTm\",\"bgiCPxs\",\"vqOi3g3\",\"oqOkWfc\",\"GrqIbBd\",\"bZ75lyp\",\"ITu32E2\",\"J1F5ETJ\",\"ZVejPaf\",\"coXAcdj\",\"dOIpOnG\",\"LD9\\/h08\",\"iIftanq\",\"kchZBWA\",\"+Fu52I4\",\"+1Aeafa\",\"qdu9zGJ\",\"pPgo9p+\",\"GLw2Uhc\",\"AiayOh0\",\"BOfcLZG\",\"4+OLCrF\",\"cg8PYlf\"],\"rds\":{\"m\":[\"FbtLogging\",\"IntlQtEventFalcoEvent\"]},\"be\":1},\"QuickSandSolver\":{\"r\":[\"inWD2ea\",\"SWx3yNv\",\"6tTjOTm\",\"bgiCPxs\",\"cg8PYlf\",\"62yCEfA\",\"ZVejPaf\",\"x22Oby4\",\"8ELCBwH\",\"SKLfEIC\",\"GrqIbBd\"],\"rds\":{\"m\":[\"FbtLogging\",\"IntlQtEventFalcoEvent\"]},\"be\":1},\"ConfirmationDialog\":{\"r\":[\"inWD2ea\",\"bgiCPxs\",\"ZVejPaf\",\"oE4DofT\",\"qdu9zGJ\",\"GrqIbBd\"],\"be\":1},\"MWADeveloperReauthBarrier\":{\"r\":[\"inWD2ea\",\"QyoftxH\",\"H\\/5lfuF\",\"17Grp2h\",\"QIamfde\"],\"be\":1}}})});</script>\n",
       "<script>requireLazy([\"InitialJSLoader\"], function(InitialJSLoader) {InitialJSLoader.loadOnDOMContentReady([\"ZVejPaf\",\"+Fu52I4\",\"cg8PYlf\",\"inWD2ea\",\"coXAcdj\",\"\\/AN8Bt5\",\"qdu9zGJ\",\"bgiCPxs\",\"6tTjOTm\",\"TMCnFn9\",\"dlMdW7h\",\"BFolX4R\",\"kWyeNZx\",\"P\\/mr5VE\"]);});</script>\n",
       "<script>requireLazy([\"TimeSliceImpl\",\"ServerJS\"],function(TimeSlice,ServerJS){var s=(new ServerJS());s.handle({\"define\":[[\"LinkshimHandlerConfig\",[],{\"supports_meta_referrer\":true,\"default_meta_referrer_policy\":\"origin-when-crossorigin\",\"switched_meta_referrer_policy\":\"origin\",\"non_linkshim_lnfb_mode\":null,\"link_react_default_hash\":\"AT2ugDkdQsk34EvYTT3dUSH1fJJZiJxsiKAtBYLvSEH0B8A59C_woEWHrEtSur-J-FMH9IYcMO6-4f60A31EutYjyUdSI8gghyBoluRIpzIBG11uq4cJaq36wwsaXO18oBskcOLuAd-XAXtd8dJJqEBwa0lygRM53p3VKg\",\"untrusted_link_default_hash\":\"AT2mqfR3qSupVjyeHmqHA2e5NGxGaGn4tY06Wgf6-rxng3dwaSFsSQ2UsVkRv3rkuc9wvHtvYBDRJujFoWWAkzdAXaO46eo8NC495o9ar3toriCnjwlS_6y7s4xHSmfLkyzQ9zjJrEz44nznk7LNJz-gFkHR8dfOFUJGfg\",\"linkshim_host\":\"l.facebook.com\",\"linkshim_path\":\"\\/l.php\",\"linkshim_enc_param\":\"h\",\"linkshim_url_param\":\"u\",\"use_rel_no_opener\":true,\"use_rel_no_referrer\":true,\"always_use_https\":true,\"onion_always_shim\":true,\"middle_click_requires_event\":true,\"www_safe_js_mode\":\"asynclazy\",\"m_safe_js_mode\":\"MLynx_asynclazy\",\"ghl_param_link_shim\":false,\"click_ids\":[],\"is_linkshim_supported\":true,\"current_domain\":\"facebook.com\",\"blocklisted_domains\":[\"ad.doubleclick.net\",\"ads-encryption-url-example.com\",\"bs.serving-sys.com\",\"ad.atdmt.com\",\"adform.net\",\"ad13.adfarm1.adition.com\",\"ilovemyfreedoms.com\",\"secure.adnxs.com\"],\"is_mobile_device\":false},27],[\"cr:7736\",[\"FBLynxLogging\"],{\"__rc\":[\"FBLynxLogging\",null]},-1]],\"elements\":[[\"__elem_835c633a_0_0_4E\",\"login_form\",1],[\"__elem_efa9dffa_0_0_5L\",\"email\",1],[\"__elem_1edd4980_0_0_Cz\",\"loginbutton\",1],[\"__elem_f46f4946_0_0_a2\",\"u_0_1_jd\",1],[\"__elem_f46f4946_0_1_nZ\",\"u_0_2_QT\",1],[\"__elem_a588f507_0_1_zH\",\"u_0_3_+8\",1],[\"__elem_9f5fac15_0_0_UK\",\"pagelet_bluebar\",1],[\"__elem_a588f507_0_0_vy\",\"globalContainer\",1],[\"__elem_a588f507_0_2_kX\",\"content\",1]],\"require\":[[\"WebPixelRatioDetector\",\"startDetecting\",[],[true]],[\"ScriptPath\",\"set\",[],[\"\\/\",\"a6bebc6e\",{\"imp_id\":\"09juW98MhRDSkABV2\",\"ef_page\":null,\"uri\":\"https:\\/\\/www.facebook.com\\/\"}]],[\"UITinyViewportAction\",\"init\",[],[]],[\"ResetScrollOnUnload\",\"init\",[\"__elem_a588f507_0_0_vy\"],[{\"__m\":\"__elem_a588f507_0_0_vy\"}]],[\"KeyboardActivityLogger\",\"init\",[],[]],[\"FocusRing\",\"init\",[],[]],[\"ErrorMessageConsole\",\"listenForUncaughtErrors\",[],[]],[\"HardwareCSS\",\"init\",[],[]],[\"AsyncRequestNectarLogging\"],[\"TimezoneAutoset\",\"setInputValue\",[\"__elem_f46f4946_0_0_a2\"],[{\"__m\":\"__elem_f46f4946_0_0_a2\"},1701875828]],[\"ScreenDimensionsAutoSet\",\"setInputValue\",[\"__elem_f46f4946_0_1_nZ\"],[{\"__m\":\"__elem_f46f4946_0_1_nZ\"}]],[\"LoginFormController\",\"init\",[\"__elem_835c633a_0_0_4E\",\"__elem_1edd4980_0_0_Cz\"],[{\"__m\":\"__elem_835c633a_0_0_4E\"},{\"__m\":\"__elem_1edd4980_0_0_Cz\"},null,true,{\"pubKey\":{\"publicKey\":\"24f57f99463973a1630fd60fe459fb500a088dc02cc74651bc9faff230699e6f\",\"keyId\":166}},false]],[\"BrowserPrefillLogging\",\"initContactpointFieldLogging\",[],[{\"contactpointFieldID\":\"email\",\"serverPrefill\":\"\"}]],[\"BrowserPrefillLogging\",\"initPasswordFieldLogging\",[],[{\"passwordFieldID\":\"pass\"}]],[\"Focus\",\"set\",[\"__elem_efa9dffa_0_0_5L\"],[{\"__m\":\"__elem_efa9dffa_0_0_5L\"}]],[\"FocusListener\"],[\"FlipDirectionOnKeypress\"],[\"IntlUtils\"],[\"FBLynx\",\"setupDelegation\",[],[]],[\"RequireDeferredReference\",\"unblock\",[],[[\"FbtLogging\",\"IntlQtEventFalcoEvent\"],\"sd\"]],[\"RequireDeferredReference\",\"unblock\",[],[[\"FbtLogging\",\"IntlQtEventFalcoEvent\"],\"css\"]],[\"TimeSliceImpl\"],[\"HasteSupportData\"],[\"ServerJS\"],[\"Run\"],[\"InitialJSLoader\"]],\"contexts\":[[{\"__m\":\"__elem_a588f507_0_1_zH\"},true],[{\"__m\":\"__elem_9f5fac15_0_0_UK\"},false],[{\"__m\":\"__elem_a588f507_0_2_kX\"},true]]});requireLazy([\"Run\"],function(Run){Run.onAfterLoad(function(){s.cleanup(TimeSlice)})});});</script>\n",
       "<script>now_inl=(function(){var p=window.performance;return p&&p.now&&p.timing&&p.timing.navigationStart?function(){return p.now()+p.timing.navigationStart}:function(){return new Date().getTime()};})();window.__bigPipeFR=now_inl();</script>\n",
       "<link as=\"style\" crossorigin=\"anonymous\" href=\"https://static.xx.fbcdn.net/rsrc.php/v3/yy/l/1,cross/piXcg3ZJdR_.css?_nc_x=Ij3Wp8lg5Kz\" rel=\"preload\"/>\n",
       "<link as=\"style\" crossorigin=\"anonymous\" href=\"https://static.xx.fbcdn.net/rsrc.php/v3/yO/l/1,cross/QfIQ6tbUF1w.css?_nc_x=Ij3Wp8lg5Kz\" rel=\"preload\"/>\n",
       "<link as=\"style\" crossorigin=\"anonymous\" href=\"https://static.xx.fbcdn.net/rsrc.php/v3/yd/l/1,cross/mHF1pesEsrP.css?_nc_x=Ij3Wp8lg5Kz\" rel=\"preload\"/>\n",
       "<link as=\"script\" crossorigin=\"anonymous\" href=\"https://static.xx.fbcdn.net/rsrc.php/v3/ya/r/GxGC52INhg0.js?_nc_x=Ij3Wp8lg5Kz\" nonce=\"NgkcXN0k\" rel=\"preload\"/>\n",
       "<link as=\"style\" crossorigin=\"anonymous\" href=\"https://static.xx.fbcdn.net/rsrc.php/v3/ym/l/1,cross/4M4PAhWCwNF.css?_nc_x=Ij3Wp8lg5Kz\" rel=\"preload\"/>\n",
       "<link as=\"style\" crossorigin=\"anonymous\" href=\"https://static.xx.fbcdn.net/rsrc.php/v3/yV/l/1,cross/1FPNULrhhBJ.css?_nc_x=Ij3Wp8lg5Kz\" rel=\"preload\"/>\n",
       "<link as=\"script\" crossorigin=\"anonymous\" href=\"https://static.xx.fbcdn.net/rsrc.php/v3/ye/r/a_TNkY9RAW1.js?_nc_x=Ij3Wp8lg5Kz\" nonce=\"NgkcXN0k\" rel=\"preload\"/>\n",
       "<link as=\"script\" crossorigin=\"anonymous\" href=\"https://static.xx.fbcdn.net/rsrc.php/v3/yh/r/bpW4eEg-2_W.js?_nc_x=Ij3Wp8lg5Kz\" nonce=\"NgkcXN0k\" rel=\"preload\"/>\n",
       "<link as=\"script\" crossorigin=\"anonymous\" href=\"https://static.xx.fbcdn.net/rsrc.php/v3i63m4/yw/l/zh_TW/zCcrlT2XcB6.js?_nc_x=Ij3Wp8lg5Kz\" nonce=\"NgkcXN0k\" rel=\"preload\"/>\n",
       "<script>window.__bigPipeCtor=now_inl();requireLazy([\"BigPipe\"],function(BigPipe){define(\"__bigPipe\",[],window.bigPipe=new BigPipe({\"forceFinish\":true,\"config\":{\"flush_pagelets_asap\":true,\"dispatch_pagelet_replayable_actions\":false}}));});</script>\n",
       "<script nonce=\"NgkcXN0k\">(function(){var n=now_inl();requireLazy([\"__bigPipe\"],function(bigPipe){bigPipe.beforePageletArrive(\"first_response\",n);})})();</script>\n",
       "<script nonce=\"NgkcXN0k\">requireLazy([\"__bigPipe\"],(function(bigPipe){bigPipe.onPageletArrive({displayResources:[\"GrqIbBd\",\"ITu32E2\",\"vqOi3g3\",\"bgiCPxs\",\"Ynnl66x\",\"0Bj1L9r\",\"P/mr5VE\",\"inWD2ea\",\"6tTjOTm\",\"cg8PYlf\"],id:\"first_response\",phase:0,last_in_phase:true,tti_phase:0,all_phases:[63],hsrp:{hblp:{consistency:{rev:1010238839}}},allResources:[\"GrqIbBd\",\"ITu32E2\",\"vqOi3g3\",\"ZVejPaf\",\"+Fu52I4\",\"cg8PYlf\",\"inWD2ea\",\"coXAcdj\",\"/AN8Bt5\",\"qdu9zGJ\",\"bgiCPxs\",\"6tTjOTm\",\"Ynnl66x\",\"0Bj1L9r\",\"TMCnFn9\",\"dlMdW7h\",\"BFolX4R\",\"P/mr5VE\",\"kWyeNZx\"]});}));</script>\n",
       "<script>requireLazy([\"__bigPipe\"],function(bigPipe){bigPipe.setPageID(\"7309501024245344736\")});</script><script nonce=\"NgkcXN0k\">(function(){var n=now_inl();requireLazy([\"__bigPipe\"],function(bigPipe){bigPipe.beforePageletArrive(\"last_response\",n);})})();</script>\n",
       "<script nonce=\"NgkcXN0k\">requireLazy([\"__bigPipe\"],(function(bigPipe){bigPipe.onPageletArrive({displayResources:[\"bgiCPxs\"],id:\"last_response\",phase:63,last_in_phase:true,the_end:true,jsmods:{define:[[\"TimeSliceInteractionSV\",[],{on_demand_reference_counting:true,on_demand_profiling_counters:true,default_rate:1000,lite_default_rate:100,interaction_to_lite_coinflip:{ADS_INTERFACES_INTERACTION:0,ads_perf_scenario:0,ads_wait_time:0,Event:1},interaction_to_coinflip:{ADS_INTERFACES_INTERACTION:1,ads_perf_scenario:1,ads_wait_time:1,Event:100},enable_heartbeat:true,maxBlockMergeDuration:0,maxBlockMergeDistance:0,enable_banzai_stream:true,user_timing_coinflip:50,banzai_stream_coinflip:0,compression_enabled:true,ref_counting_fix:false,ref_counting_cont_fix:false,also_record_new_timeslice_format:false,force_async_request_tracing_on:false},2609],[\"BDSignalCollectionData\",[],{sc:\"{\\\"t\\\":1659080345,\\\"c\\\":[[30000,838801],[30001,838801],[30002,838801],[30003,838801],[30004,838801],[30005,838801],[30006,573585],[30007,838801],[30008,838801],[30012,838801],[30013,838801],[30015,806033],[30018,806033],[30021,540823],[30022,540817],[30040,806033],[30093,806033],[30094,806033],[30095,806033],[30101,541591],[30102,541591],[30103,541591],[30104,541591],[30106,806039],[30107,806039],[38000,541427],[38001,806643]]}\",fds:60,fda:60,i:60,sbs:1,dbs:100,bbs:100,hbi:60,rt:262144,hbcbc:2,hbvbc:0,hbbi:30,sid:-1,hbv:\"8605981490351148266\"},5239],[\"cr:7383\",[\"BanzaiWWW\"],{__rc:[\"BanzaiWWW\",null]},-1],[\"cr:1458113\",[],{__rc:[null,null]},-1],[\"cr:1069930\",[],{__rc:[null,null]},-1],[\"cr:1083116\",[\"XAsyncRequest\"],{__rc:[\"XAsyncRequest\",null]},-1],[\"cr:1083117\",[],{__rc:[null,null]},-1],[\"cr:1642797\",[\"BanzaiBase\"],{__rc:[\"BanzaiBase\",null]},-1],[\"BanzaiConfig\",[],{MAX_SIZE:10000,MAX_WAIT:150000,MIN_WAIT:null,RESTORE_WAIT:150000,blacklist:[\"time_spent\"],disabled:false,gks:{boosted_pagelikes:true,mercury_send_error_logging:true,platform_oauth_client_events:true,sticker_search_ranking:true},known_routes:[\"artillery_javascript_actions\",\"artillery_javascript_trace\",\"artillery_logger_data\",\"logger\",\"falco\",\"gk2_exposure\",\"js_error_logging\",\"loom_trace\",\"marauder\",\"perfx_custom_logger_endpoint\",\"qex\",\"require_cond_exposure_logging\",\"metaconfig_exposure\"],should_drop_unknown_routes:true,should_log_unknown_routes:false},7],[\"cr:7384\",[\"cancelIdleCallbackWWW\"],{__rc:[\"cancelIdleCallbackWWW\",null]},-1],[\"cr:692209\",[\"cancelIdleCallbackBlue\"],{__rc:[\"cancelIdleCallbackBlue\",null]},-1],[\"WebStorageMonsterLoggingURI\",[],{uri:\"/ajax/webstorage/process_keys/?state=1\"},3032],[\"BrowserPaymentHandlerConfig\",[],{enabled:false},3904],[\"TimeSpentConfig\",[],{delay:1000,timeout:64,\"0_delay\":0,\"0_timeout\":8},142],[\"WebDevicePerfInfoData\",[],{needsFullUpdate:true,needsPartialUpdate:false,shouldLogResourcePerf:false},3977],[\"cr:6943\",[\"EventListenerImplForCacheStorage\"],{__rc:[\"EventListenerImplForCacheStorage\",null]},-1],[\"cr:1634616\",[\"UserActivityBlue\"],{__rc:[\"UserActivityBlue\",null]},-1],[\"cr:1353359\",[\"EventListenerImplForBlue\"],{__rc:[\"EventListenerImplForBlue\",null]},-1],[\"cr:844180\",[\"TimeSpentImmediateActiveSecondsLoggerBlue\"],{__rc:[\"TimeSpentImmediateActiveSecondsLoggerBlue\",null]},-1],[\"cr:1187159\",[\"BlueCompatBroker\"],{__rc:[\"BlueCompatBroker\",null]},-1],[\"cr:5800\",[],{__rc:[null,null]},-1],[\"ImmediateActiveSecondsConfig\",[],{sampling_rate:0},423]],require:[[\"NavigationMetrics\",\"setPage\",[],[{page:\"/\",page_type:\"normal\",page_uri:\"https://www.facebook.com/\",serverLID:\"7309501024245344736\"}]],[\"FalcoLoggerTransports\",\"attach\",[],[]],[\"Chromedome\",\"start\",[],[{}]],[\"DimensionTracking\"],[\"ClickRefLogger\"],[\"NavigationClickPointHandler\"],[\"ServiceWorkerURLCleaner\",\"removeRedirectID\",[],[]],[\"WebDevicePerfInfoLogging\",\"doLog\",[],[]],[\"WebStorageMonster\",\"schedule\",[],[]],[\"Artillery\",\"disable\",[],[]],[\"ScriptPathLogger\",\"startLogging\",[],[]],[\"TimeSpentBitArrayLogger\",\"init\",[],[]],[\"CookieCore\",\"setWithoutChecksIfFirstPartyContext\",[],[\"_js_datr\",\"dJBwZf4XSgLYW8eQ5KuL7t3-\",34560000000,\"/\",true,\".facebook.com\"]],[\"TransportSelectingClientSingletonConditional\"],[\"RequireDeferredReference\",\"unblock\",[],[[\"TransportSelectingClientSingletonConditional\"],\"sd\"]],[\"RequireDeferredReference\",\"unblock\",[],[[\"TransportSelectingClientSingletonConditional\"],\"css\"]]]},hsrp:{hsdp:{clpData:{\"1871697\":{r:1,s:1},\"1829319\":{r:1},\"1829320\":{r:1},\"1843988\":{r:1}},gkxData:{\"1099893\":{result:false,hash:null}}},hblp:{consistency:{rev:1010238839}}},allResources:[\"bgiCPxs\",\"inWD2ea\",\"rusquG1\",\"oqOkWfc\",\"6tTjOTm\",\"cg8PYlf\",\"pPgo9p+\"]});}));</script></body></html>"
      ]
     },
     "execution_count": 37,
     "metadata": {},
     "output_type": "execute_result"
    }
   ],
   "source": [
    "from tool import get_soup\n",
    "fb='https://www.facebook.com/'\n",
    "fbsoup=get_soup(fb)\n",
    "fbsoup"
   ]
  },
  {
   "cell_type": "code",
   "execution_count": 38,
   "id": "46f49cca",
   "metadata": {},
   "outputs": [],
   "source": [
    "import requests\n",
    "from bs4 import BeautifulSoup\n",
    "import pandas as pd\n",
    "import os\n",
    "from selenium import webdriver\n",
    "from selenium.webdriver.chrome.service import Service\n",
    "from selenium.webdriver.common.by import By\n",
    "import time\n",
    "\n",
    "path = r'/Users/changfengen/Downloads/chromedriver-mac-x64/chromedriver'\n",
    "service = Service(executable_path = path)\n",
    "\n",
    "chrome = webdriver.Chrome(service = service)\n",
    "chrome.get(\"https://mbasic.facebook.com\")\n",
    "time.sleep(5)\n",
    "\n",
    "def make_dirs(path):\n",
    "    try:\n",
    "        if not os.path.exists(path):\n",
    "            os.makedirs(path)\n",
    "            print(f'{path}建立成功.')\n",
    "        else:\n",
    "            print(f'{path}已存在.')\n",
    "    except Exception as e:\n",
    "        print('建立floder失敗.', e)\n",
    "\n",
    "def get_soup(url, post_data=None):\n",
    "    try:\n",
    "        if post_data is not None:\n",
    "            resp = requests.post(url, post_data, headers={\n",
    "                'User-Agent': 'Mozilla/5.0 (Macintosh; Intel Mac OS X 11_2_3) AppleWebKit/605.1.15 (KHTML, like Gecko) Version/12.2'})\n",
    "        else:\n",
    "            resp = requests.get(url, headers={\n",
    "                'User-Agent': 'Mozilla/5.0 (Macintosh; Intel Mac OS X 11_2_3) AppleWebKit/605.1.15 (KHTML, like Gecko) Version/12.2'})\n",
    "        resp.encoding = 'utf-8'\n",
    "        if resp.status_code == 200:\n",
    "            soup = BeautifulSoup(resp.text, 'lxml')\n",
    "            return soup\n",
    "        else:\n",
    "            print('網頁取得失敗', resp.status_code)\n",
    "    except Exception as e:\n",
    "        print('網址錯誤', e)"
   ]
  },
  {
   "cell_type": "code",
   "execution_count": 39,
   "id": "7928b242",
   "metadata": {},
   "outputs": [
    {
     "data": {
      "text/plain": [
       "'<html lang=\"zh-Hant\" xmlns=\"http://www.w3.org/1999/xhtml\"><head><title>Facebook - 登入或註冊</title><meta name=\"referrer\" content=\"origin-when-crossorigin\" id=\"meta_referrer\"><style type=\"text/css\" nonce=\"\">/*<![CDATA[*/.r{margin-bottom:36px;}.o{padding:8px;}.j{padding-bottom:4px;padding-top:4px;}.bz{padding-bottom:12px;padding-top:12px;}.by{padding-left:4px;padding-right:4px;}.bq{padding-left:8px;padding-right:8px;}.bv{padding-top:12px;}.b .bs{display:block;width:auto;}.b .bs .bt,.b .bs .bt:hover{background-color:#42b72a;color:#fff;height:44px;}.b .bn{display:block;margin-bottom:5px;margin-left:3%;margin-top:-3px;overflow:hidden;text-align:center;white-space:nowrap;width:94%;}.b .bn>span{display:inline-block;position:relative;}.b .bn>span:before,.b .bn>span:after{background:#ccd0d5;content:\\'\\';height:1px;position:absolute;top:50%;width:9999px;}.b .bn>span:before{margin-right:15px;right:100%;}.b .bn>span:after{left:100%;margin-left:15px;}.b .bo{color:#4b4f56;font-size:14px;}.b .be{border:solid 1px #999;box-sizing:border-box;width:100%;}.b .l{border:0;border-collapse:collapse;margin:0;padding:0;width:100%;}.b .l tbody{vertical-align:top;}.b .l td{padding:0;}.b .l td.y{padding:4px;}.b .m{width:100%;}.n{background:#fa3e3e;}.p{color:#fff;}.b .p a,.b .p a:visited{color:#fff;font-weight:bold;}.b .p a:focus,.b .p a:hover{background:#1d2129;}.cb{color:#4b4f56;}.q{font-size:12px;line-height:16px;}.ca{font-size:16px;line-height:20px;}.bi{font-weight:normal;}.ba{font-weight:bold;}.bp{text-align:center;}form{margin:0;border:0;}.x{margin:0;}.x li{display:block;list-style:none;}.b .cc{padding:0;}.b .y{padding:4px;}.b .bb{color:#8d949e;display:block;font-weight:bold;}.b .bd{padding:12px 8px;color:#1c1e21;}.bc{border:0;display:block;margin:0;padding:0;}.bf{box-sizing:border-box;width:100%;}.b .bg{border:solid 1px #999;}.bj{-webkit-appearance:none;background:none;display:inline-block;font-size:12px;height:28px;line-height:28px;margin:0;overflow:visible;padding:0 9px;text-align:center;vertical-align:top;white-space:nowrap;}.b .bj{border-radius:2px;}.bu,a.bu,.b a.bu,.b a.bu:visited{background-color:#f5f6f7;color:#4b4f56;}.b a.bu:hover,.b .bu:hover{background-color:#ebedf0;color:#4b4f56;}.b .bu{border:1px solid #bec3c9;}.bu[disabled]{color:#bec3c9;}.b .bu[disabled]:hover{background-color:#f5f6f7;color:#bec3c9;}.bm,a.bm,html .b a.bm{color:#fff;}.b .bm{background-color:#4267b2;border:1px solid #365899;}.b a.bm:hover,.b .bm:hover{background-color:#465e91;}.bm[disabled]{color:#899bc1;}.b .bm[disabled]:hover{background-color:#4267b2;}.bl{font-size:14px;height:44px;line-height:44px;padding:0 20px;}.b a.bj::after{content:\\'\\';display:inline-block;height:100%;vertical-align:middle;}.bj.bk{display:block;width:100%;}a.bj.bk,.b label.bj.bk{display:block;width:auto;}.b .bj{padding:0 8px;}.b a.bj{height:26px;line-height:26px;}.b .bl{padding:0 19px;}.b a.bl{font-size:14px;height:42px;line-height:42px;}.b a,.b a:visited{color:#3b5998;text-decoration:none;}.b a:focus,.b a:hover{background-color:#3b5998;color:#fff;}body{text-align:left;direction:ltr;}body,tr,input,textarea,button{font-family:sans-serif;}body,p,figure,h1,h2,h3,h4,h5,h6,ul,ol,li,dl,dd,dt{margin:0;padding:0;}h1,h2,h3,h4,h5,h6{font-size:1em;font-weight:bold;}ul,ol{list-style:none;}article,aside,figcaption,figure,footer,header,nav,section{display:block;}.d #viewport{margin:0 auto;max-width:600px;}.f{background-color:#fff;}.h{background-color:#3b5998;}.s{background-color:#eceff5;}#page{position:relative;}.i{padding:2px 3px;}.k{border:0;display:inline-block;vertical-align:top;}i.k u{position:absolute;width:0;height:0;overflow:hidden;}body,tr,input,textarea,.g{font-size:medium;}/*]]>*/</style><meta http-equiv=\"origin-trial\" content=\"AvpndGzuAwLY463N1HvHrsK3WE5yU5g6Fehz7Vl7bomqhPI/nYGOjVg3TI0jq5tQ5dP3kDSd1HXVtKMQyZPRxAAAAABleyJvcmlnaW4iOiJodHRwczovL2ZhY2Vib29rLmNvbTo0NDMiLCJmZWF0dXJlIjoiSW5zdGFsbGVkQXBwIiwiZXhwaXJ5IjoxNTEyNDI3NDA0LCJpc1N1YmRvbWFpbiI6dHJ1ZX0=\"><meta name=\"description\" content=\"建立帳號或登入 Facebook。與認識的朋友、家人和其他人聯繫。分享相片和影片、傳送訊息並掌握最新消息。\"><link rel=\"canonical\" href=\"https://www.facebook.com/\"><meta property=\"og:site_name\" content=\"Facebook\"><meta property=\"og:type\" content=\"website\"><meta property=\"og:title\" content=\"Facebook - 登入或註冊\"><meta property=\"og:description\" content=\"建立帳號或登入 Facebook。與認識的朋友、家人和其他人聯繫。分享相片和影片、傳送訊息並掌握最新消息。\"><meta property=\"og:image\" content=\"https://www.facebook.com/images/fb_icon_325x325.png\"><meta property=\"og:url\" content=\"https://www.facebook.com/\"><link rel=\"alternate\" media=\"only screen and (max-width: 640px)\" href=\"https://m.facebook.com/\"><link rel=\"alternate\" media=\"handheld\" href=\"https://m.facebook.com/\"><link rel=\"manifest\" id=\"MANIFEST_LINK\" href=\"/data/manifest/\" crossorigin=\"use-credentials\"></head><body tabindex=\"0\" class=\"b c d e f\"><div class=\"g\"><div id=\"viewport\"><div class=\"h i\" id=\"header\"><h1 style=\"display:block;height:0;overflow:hidden;position:absolute;width:0;padding:0\">Facebook</h1><img src=\"https://static.xx.fbcdn.net/rsrc.php/v3/y8/r/k97pj8-or6s.png\" width=\"77\" height=\"16\" class=\"j k\" alt=\"facebook\"></div><div id=\"objects_container\"><div class=\"f\" id=\"root\" role=\"main\"><table class=\"l\" role=\"presentation\"><tbody><tr><td class=\"m\"><div class=\"n o p\" style=\"display: none;\" id=\"login_error\"><div class=\"q\"></div></div><div class=\"r\"><div class=\"s t\"><div id=\"login_top_banner\"></div><div class=\"u\"><form method=\"post\" action=\"/login/device-based/regular/login/?refsrc=deprecated&amp;lwv=100&amp;refid=8\" class=\"v w\" id=\"login_form\" novalidate=\"1\"><input type=\"hidden\" name=\"lsd\" value=\"AVo4mn7CBRQ\" autocomplete=\"off\"><input type=\"hidden\" name=\"jazoest\" value=\"2884\" autocomplete=\"off\"><input type=\"hidden\" name=\"m_ts\" value=\"1701875834\"><input type=\"hidden\" name=\"li\" value=\"epBwZWrIlw0BZ_pDbraFAi0q\"><input type=\"hidden\" name=\"try_number\" value=\"0\"><input type=\"hidden\" name=\"unrecognized_tries\" value=\"0\"><ul class=\"x y z\"><li class=\"y\"><span class=\"ba bb\" id=\"u_0_0_CX\">手機號碼或電子郵件地址</span><input autocorrect=\"off\" autocapitalize=\"off\" class=\"bc bd be\" autocomplete=\"on\" id=\"m_login_email\" name=\"email\" aria-labelledby=\"u_0_0_CX\" type=\"text\"></li><li class=\"y\"><section id=\"password_input_with_placeholder\"><span class=\"ba bb\" id=\"u_0_1_EO\">密碼</span><input autocorrect=\"off\" autocapitalize=\"off\" class=\"bc bd bf bg\" autocomplete=\"on\" name=\"pass\" aria-labelledby=\"u_0_1_EO\" type=\"password\"></section></li><li class=\"y\"><input value=\"登入\" type=\"submit\" name=\"login\" class=\"bh bi bj bk bl bm\"></li></ul><div><div id=\"login_reg_separator\" class=\"bn\"><span class=\"bo\">或</span></div><div class=\"bp bq\" id=\"signup_button_area\"><div class=\"bp br bs\" id=\"signup-button\" tabindex=\"0\"><input value=\"建立新帳號\" type=\"submit\" name=\"sign_up\" class=\"bh bi bj bt bl bu\"></div></div></div><input type=\"hidden\" id=\"bi_xrwh\" name=\"bi_xrwh\" value=\"0\"><input type=\"hidden\" id=\"scetoggle\"><div></div><noscript><input type=\"hidden\" name=\"_fb_noscript\" value=\"true\" /></noscript></form><div><div class=\"bv bw\"><div class=\"bp bx\"><a class=\"bx\" tabindex=\"0\" href=\"/recover/initiate/?privacy_mutation_token=eyJ0eXBlIjowLCJjcmVhdGlvbl90aW1lIjoxNzAxODc1ODM0LCJjYWxsc2l0ZV9pZCI6Mjg0Nzg1MTQ5MzQ1MzY5fQ%3D%3D&amp;c=https%3A%2F%2Fmbasic.facebook.com%2F&amp;r&amp;cuid&amp;ars=facebook_login&amp;lwv=100&amp;refid=8\" id=\"forgot-password-link\">忘記密碼？</a></div></div><div style=\"padding-top: 42px\"><div><div></div><div class=\"bv\" style=\"text-align:center;\"><div class=\"by bz\"><span class=\"ca cb\"><ul class=\"x cc\"><li class=\"y bp\"></li><li class=\"y\"></li></ul></span></div></div></div></div></div></div></div></div></td></tr></tbody></table><div style=\"display:none\"><div></div></div><span><img src=\"https://facebook.com/security/hsts-pixel.gif\" width=\"0\" height=\"0\" style=\"display:none\"></span></div></div><div></div></div></div></body></html>'"
      ]
     },
     "execution_count": 39,
     "metadata": {},
     "output_type": "execute_result"
    }
   ],
   "source": [
    "chrome.page_source"
   ]
  },
  {
   "cell_type": "code",
   "execution_count": 40,
   "id": "ba5b09c6",
   "metadata": {},
   "outputs": [],
   "source": [
    "input_xpath = \"/html/body/div/div/div[2]/div/table/tbody/tr/td/div[2]/div/div[2]/form/ul/li[1]/input\""
   ]
  },
  {
   "cell_type": "code",
   "execution_count": 41,
   "id": "a8e220f8",
   "metadata": {},
   "outputs": [
    {
     "data": {
      "text/plain": [
       "<selenium.webdriver.remote.webelement.WebElement (session=\"780566bcba4b576aa271340e769b2008\", element=\"5393782B486FBC2E1D63A8BA7DAC6BF3_element_2\")>"
      ]
     },
     "execution_count": 41,
     "metadata": {},
     "output_type": "execute_result"
    }
   ],
   "source": [
    "element_1 = chrome.find_element(By.XPATH, input_xpath)\n",
    "element_1"
   ]
  },
  {
   "cell_type": "code",
   "execution_count": 42,
   "id": "46868f91",
   "metadata": {},
   "outputs": [
    {
     "name": "stdout",
     "output_type": "stream",
     "text": [
      "請輸入帳號520mazu@gmail.com\n"
     ]
    }
   ],
   "source": [
    "element_1.send_keys(input(\"請輸入帳號\"))"
   ]
  },
  {
   "cell_type": "code",
   "execution_count": 43,
   "id": "e95d5cba",
   "metadata": {},
   "outputs": [],
   "source": [
    "pw_xpath = \"/html/body/div/div/div[2]/div/table/tbody/tr/td/div[2]/div/div[2]/form/ul/li[2]/section/input\""
   ]
  },
  {
   "cell_type": "code",
   "execution_count": 44,
   "id": "45d8f0dd",
   "metadata": {
    "scrolled": true
   },
   "outputs": [
    {
     "data": {
      "text/plain": [
       "<selenium.webdriver.remote.webelement.WebElement (session=\"780566bcba4b576aa271340e769b2008\", element=\"5393782B486FBC2E1D63A8BA7DAC6BF3_element_3\")>"
      ]
     },
     "execution_count": 44,
     "metadata": {},
     "output_type": "execute_result"
    }
   ],
   "source": [
    "element_2 = chrome.find_element(By.XPATH, pw_xpath)\n",
    "element_2"
   ]
  },
  {
   "cell_type": "code",
   "execution_count": 45,
   "id": "68fd6816",
   "metadata": {},
   "outputs": [
    {
     "name": "stdout",
     "output_type": "stream",
     "text": [
      "請輸入密碼kanon-520\n"
     ]
    }
   ],
   "source": [
    "element_2.send_keys(input(\"請輸入密碼\"))"
   ]
  },
  {
   "cell_type": "code",
   "execution_count": 46,
   "id": "c24ff612",
   "metadata": {},
   "outputs": [],
   "source": [
    "enter_xpath = \"/html/body/div/div/div[2]/div/table/tbody/tr/td/div[2]/div/div[2]/form/ul/li[3]/input\""
   ]
  },
  {
   "cell_type": "code",
   "execution_count": 47,
   "id": "ea5fc32d",
   "metadata": {},
   "outputs": [
    {
     "data": {
      "text/plain": [
       "<selenium.webdriver.remote.webelement.WebElement (session=\"780566bcba4b576aa271340e769b2008\", element=\"5393782B486FBC2E1D63A8BA7DAC6BF3_element_25\")>"
      ]
     },
     "execution_count": 47,
     "metadata": {},
     "output_type": "execute_result"
    }
   ],
   "source": [
    "element_3 = chrome.find_element(By.XPATH, enter_xpath)\n",
    "element_3"
   ]
  },
  {
   "cell_type": "code",
   "execution_count": 48,
   "id": "6e33e311",
   "metadata": {},
   "outputs": [],
   "source": [
    "element_3.click()"
   ]
  },
  {
   "cell_type": "code",
   "execution_count": 49,
   "id": "c29c8a0f",
   "metadata": {},
   "outputs": [],
   "source": [
    "search_xpath = \"/html/body/div/div/div[1]/div/form/table/tbody/tr/td[2]/input\""
   ]
  },
  {
   "cell_type": "code",
   "execution_count": 50,
   "id": "f89d8ca4",
   "metadata": {},
   "outputs": [
    {
     "data": {
      "text/plain": [
       "<selenium.webdriver.remote.webelement.WebElement (session=\"780566bcba4b576aa271340e769b2008\", element=\"D8C2B5B0040C3E410CA63921A2B7188D_element_123\")>"
      ]
     },
     "execution_count": 50,
     "metadata": {},
     "output_type": "execute_result"
    }
   ],
   "source": [
    "element_4 = chrome.find_element(By.XPATH, search_xpath)\n",
    "element_4"
   ]
  },
  {
   "cell_type": "code",
   "execution_count": 51,
   "id": "af40eaae",
   "metadata": {},
   "outputs": [],
   "source": [
    "element_4.send_keys('山道猴子')"
   ]
  },
  {
   "cell_type": "code",
   "execution_count": 52,
   "id": "c5fe826d",
   "metadata": {},
   "outputs": [],
   "source": [
    "enter_1_xpath = \"/html/body/div/div/div[1]/div/form/table/tbody/tr/td[3]/input\""
   ]
  },
  {
   "cell_type": "code",
   "execution_count": 53,
   "id": "02cf35f8",
   "metadata": {},
   "outputs": [
    {
     "data": {
      "text/plain": [
       "<selenium.webdriver.remote.webelement.WebElement (session=\"780566bcba4b576aa271340e769b2008\", element=\"D8C2B5B0040C3E410CA63921A2B7188D_element_126\")>"
      ]
     },
     "execution_count": 53,
     "metadata": {},
     "output_type": "execute_result"
    }
   ],
   "source": [
    "element_5 = chrome.find_element(By.XPATH, enter_1_xpath)\n",
    "element_5"
   ]
  },
  {
   "cell_type": "code",
   "execution_count": 54,
   "id": "07ade50d",
   "metadata": {},
   "outputs": [],
   "source": [
    "element_5.click()"
   ]
  },
  {
   "cell_type": "code",
   "execution_count": 55,
   "id": "3afe4aff",
   "metadata": {},
   "outputs": [],
   "source": [
    "mm = chrome.page_source"
   ]
  },
  {
   "cell_type": "code",
   "execution_count": 56,
   "id": "87527bc4",
   "metadata": {},
   "outputs": [],
   "source": [
    "url = mm\n",
    "soup = BeautifulSoup(url,'lxml')"
   ]
  },
  {
   "cell_type": "code",
   "execution_count": 57,
   "id": "ff9fcedb",
   "metadata": {},
   "outputs": [],
   "source": [
    "post = soup.find_all(\"div\",class_=\"de\")"
   ]
  },
  {
   "cell_type": "code",
   "execution_count": 58,
   "id": "b96476eb",
   "metadata": {},
   "outputs": [
    {
     "ename": "AttributeError",
     "evalue": "'NoneType' object has no attribute 'text'",
     "output_type": "error",
     "traceback": [
      "\u001b[0;31m---------------------------------------------------------------------------\u001b[0m",
      "\u001b[0;31mAttributeError\u001b[0m                            Traceback (most recent call last)",
      "Cell \u001b[0;32mIn[58], line 1\u001b[0m\n\u001b[0;32m----> 1\u001b[0m post[\u001b[38;5;241m0\u001b[39m]\u001b[38;5;241m.\u001b[39mfind(\u001b[38;5;124m\"\u001b[39m\u001b[38;5;124mspan\u001b[39m\u001b[38;5;124m\"\u001b[39m)\u001b[38;5;241m.\u001b[39mtext\n",
      "\u001b[0;31mAttributeError\u001b[0m: 'NoneType' object has no attribute 'text'"
     ]
    }
   ],
   "source": [
    "post[0].find(\"span\").text"
   ]
  },
  {
   "cell_type": "code",
   "execution_count": 34,
   "id": "16bee159",
   "metadata": {},
   "outputs": [],
   "source": [
    "datas = []\n",
    "\n",
    "for mm in post:\n",
    "    try:\n",
    "        post_text=mm.find(\"span\").text\n",
    "        datas.append([post_text])\n",
    "    except Exception as e:\n",
    "        print(e)"
   ]
  },
  {
   "cell_type": "code",
   "execution_count": 35,
   "id": "e86d636a",
   "metadata": {},
   "outputs": [
    {
     "data": {
      "text/plain": [
       "[[\"陳源宏 > \\u200e🙈🙉🙊《刪到猴子的一生what's wrong with ART?》🙈🙉🙊\"],\n",
       " ['這個世代'],\n",
       " ['空罐王'],\n",
       " ['楊千瑩 > \\u200e川崎全車系ZX10R ZX6R NINJA400 新、古改裝品、車輛買賣自由版'],\n",
       " ['Power in Nursing 護理的力量'],\n",
       " ['大燈正常能量釋放'],\n",
       " ['馬世芳'],\n",
       " ['這個世代'],\n",
       " ['台積電青年學生文學獎'],\n",
       " ['Lien-ze Tsao > \\u200eAE/MG交流 (AfterEffects / MotionGraphics)']]"
      ]
     },
     "execution_count": 35,
     "metadata": {},
     "output_type": "execute_result"
    }
   ],
   "source": [
    "datas"
   ]
  },
  {
   "cell_type": "code",
   "execution_count": 36,
   "id": "9484c102",
   "metadata": {},
   "outputs": [
    {
     "data": {
      "text/html": [
       "<div>\n",
       "<style scoped>\n",
       "    .dataframe tbody tr th:only-of-type {\n",
       "        vertical-align: middle;\n",
       "    }\n",
       "\n",
       "    .dataframe tbody tr th {\n",
       "        vertical-align: top;\n",
       "    }\n",
       "\n",
       "    .dataframe thead th {\n",
       "        text-align: right;\n",
       "    }\n",
       "</style>\n",
       "<table border=\"1\" class=\"dataframe\">\n",
       "  <thead>\n",
       "    <tr style=\"text-align: right;\">\n",
       "      <th></th>\n",
       "      <th>0</th>\n",
       "    </tr>\n",
       "  </thead>\n",
       "  <tbody>\n",
       "    <tr>\n",
       "      <th>0</th>\n",
       "      <td>陳源宏 &gt; ‎🙈🙉🙊《刪到猴子的一生what's wrong with ART?》🙈🙉🙊</td>\n",
       "    </tr>\n",
       "    <tr>\n",
       "      <th>1</th>\n",
       "      <td>這個世代</td>\n",
       "    </tr>\n",
       "    <tr>\n",
       "      <th>2</th>\n",
       "      <td>空罐王</td>\n",
       "    </tr>\n",
       "    <tr>\n",
       "      <th>3</th>\n",
       "      <td>楊千瑩 &gt; ‎川崎全車系ZX10R ZX6R NINJA400 新、古改裝品、車輛買賣自由版</td>\n",
       "    </tr>\n",
       "    <tr>\n",
       "      <th>4</th>\n",
       "      <td>Power in Nursing 護理的力量</td>\n",
       "    </tr>\n",
       "    <tr>\n",
       "      <th>5</th>\n",
       "      <td>大燈正常能量釋放</td>\n",
       "    </tr>\n",
       "    <tr>\n",
       "      <th>6</th>\n",
       "      <td>馬世芳</td>\n",
       "    </tr>\n",
       "    <tr>\n",
       "      <th>7</th>\n",
       "      <td>這個世代</td>\n",
       "    </tr>\n",
       "    <tr>\n",
       "      <th>8</th>\n",
       "      <td>台積電青年學生文學獎</td>\n",
       "    </tr>\n",
       "    <tr>\n",
       "      <th>9</th>\n",
       "      <td>Lien-ze Tsao &gt; ‎AE/MG交流 (AfterEffects / Motion...</td>\n",
       "    </tr>\n",
       "  </tbody>\n",
       "</table>\n",
       "</div>"
      ],
      "text/plain": [
       "                                                   0\n",
       "0       陳源宏 > ‎🙈🙉🙊《刪到猴子的一生what's wrong with ART?》🙈🙉🙊\n",
       "1                                               這個世代\n",
       "2                                                空罐王\n",
       "3     楊千瑩 > ‎川崎全車系ZX10R ZX6R NINJA400 新、古改裝品、車輛買賣自由版\n",
       "4                             Power in Nursing 護理的力量\n",
       "5                                           大燈正常能量釋放\n",
       "6                                                馬世芳\n",
       "7                                               這個世代\n",
       "8                                         台積電青年學生文學獎\n",
       "9  Lien-ze Tsao > ‎AE/MG交流 (AfterEffects / Motion..."
      ]
     },
     "execution_count": 36,
     "metadata": {},
     "output_type": "execute_result"
    }
   ],
   "source": [
    "pf = pd.DataFrame(datas)\n",
    "pf"
   ]
  },
  {
   "cell_type": "code",
   "execution_count": null,
   "id": "2bc35a3b",
   "metadata": {},
   "outputs": [],
   "source": []
  }
 ],
 "metadata": {
  "kernelspec": {
   "display_name": "Python 3 (ipykernel)",
   "language": "python",
   "name": "python3"
  },
  "language_info": {
   "codemirror_mode": {
    "name": "ipython",
    "version": 3
   },
   "file_extension": ".py",
   "mimetype": "text/x-python",
   "name": "python",
   "nbconvert_exporter": "python",
   "pygments_lexer": "ipython3",
   "version": "3.11.4"
  }
 },
 "nbformat": 4,
 "nbformat_minor": 5
}
